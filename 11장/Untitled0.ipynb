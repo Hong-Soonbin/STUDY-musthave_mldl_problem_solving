{
  "nbformat": 4,
  "nbformat_minor": 0,
  "metadata": {
    "colab": {
      "name": "Untitled0.ipynb",
      "provenance": []
    },
    "kernelspec": {
      "name": "python3",
      "display_name": "Python 3"
    },
    "language_info": {
      "name": "python"
    },
    "accelerator": "GPU",
    "gpuClass": "premium"
  },
  "cells": [
    {
      "cell_type": "code",
      "source": [
        "!nvidia-smi"
      ],
      "metadata": {
        "id": "cCDEeKLllykC",
        "outputId": "769db30e-2ada-450a-8601-e11c3f638329",
        "colab": {
          "base_uri": "https://localhost:8080/"
        }
      },
      "execution_count": 4,
      "outputs": [
        {
          "output_type": "stream",
          "name": "stdout",
          "text": [
            "Mon Oct 10 01:52:43 2022       \n",
            "+-----------------------------------------------------------------------------+\n",
            "| NVIDIA-SMI 460.32.03    Driver Version: 460.32.03    CUDA Version: 11.2     |\n",
            "|-------------------------------+----------------------+----------------------+\n",
            "| GPU  Name        Persistence-M| Bus-Id        Disp.A | Volatile Uncorr. ECC |\n",
            "| Fan  Temp  Perf  Pwr:Usage/Cap|         Memory-Usage | GPU-Util  Compute M. |\n",
            "|                               |                      |               MIG M. |\n",
            "|===============================+======================+======================|\n",
            "|   0  A100-SXM4-40GB      Off  | 00000000:00:04.0 Off |                    0 |\n",
            "| N/A   29C    P0    42W / 400W |      0MiB / 40536MiB |      0%      Default |\n",
            "|                               |                      |             Disabled |\n",
            "+-------------------------------+----------------------+----------------------+\n",
            "                                                                               \n",
            "+-----------------------------------------------------------------------------+\n",
            "| Processes:                                                                  |\n",
            "|  GPU   GI   CI        PID   Type   Process name                  GPU Memory |\n",
            "|        ID   ID                                                   Usage      |\n",
            "|=============================================================================|\n",
            "|  No running processes found                                                 |\n",
            "+-----------------------------------------------------------------------------+\n"
          ]
        }
      ]
    },
    {
      "cell_type": "code",
      "execution_count": 3,
      "metadata": {
        "id": "pVmMyiT77azK"
      },
      "outputs": [],
      "source": [
        "import pandas as pd\n",
        "import numpy as np\n",
        "import os\n",
        "import cv2\n",
        "import gc\n",
        "import re\n",
        "import copy\n",
        "import itertools\n",
        "from PIL import Image\n",
        "import matplotlib.pyplot as plt\n",
        "from matplotlib import pyplot\n",
        "from tqdm import tqdm\n",
        "from tqdm.notebook import tqdm\n",
        "from datetime import datetime\n",
        "import json,itertools\n",
        "from typing import Optional\n",
        "from glob import glob\n",
        "import warnings\n",
        "from IPython import display as ipd\n",
        "warnings.filterwarnings(\"ignore\")\n",
        "import matplotlib.gridspec as gridspec\n",
        "import matplotlib.patches as mpatches\n",
        "import matplotlib as mpl\n",
        "from matplotlib.patches import Rectangle\n",
        "import seaborn as sns\n",
        "import random\n",
        "from joblib import Parallel, delayed\n",
        "\n",
        "from sklearn.model_selection import StratifiedKFold\n",
        "from sklearn.model_selection import KFold\n",
        "from sklearn.model_selection import train_test_split\n",
        "from sklearn.preprocessing import LabelEncoder\n",
        "from sklearn.metrics import roc_auc_score\n",
        "from sklearn.linear_model import LinearRegression\n",
        "from sklearn.linear_model import Lasso, Ridge, ElasticNet\n",
        "from sklearn.linear_model import LinearRegression, Ridge, Lasso, ElasticNet,SGDRegressor\n",
        "from sklearn.model_selection import StratifiedGroupKFold\n",
        "\n",
        "from xgboost import XGBRegressor\n",
        "import xgboost as xgb\n",
        "import lightgbm as lgb\n",
        "from xgboost import plot_importance\n",
        "\n",
        "\n",
        "import missingno as msno\n",
        "import plotly.express as px\n",
        "\n",
        "# Keras\n",
        "import tensorflow as tf\n",
        "\n",
        "from sklearn.model_selection import KFold, train_test_split\n",
        "from sklearn.metrics import roc_auc_score\n",
        "from sklearn.metrics import mean_squared_error, mean_absolute_error\n",
        "from sklearn.ensemble import RandomForestRegressor\n",
        "from sklearn.model_selection import GridSearchCV\n",
        "from sklearn.model_selection import GroupKFold\n",
        "from sklearn.preprocessing import StandardScaler, RobustScaler, PowerTransformer, OneHotEncoder, LabelEncoder, OrdinalEncoder\n",
        "from sklearn.pipeline import make_pipeline\n",
        "from lightgbm import LGBMRegressor"
      ]
    },
    {
      "cell_type": "code",
      "source": [
        "from google.colab import drive\n",
        "drive.mount('/content/drive')"
      ],
      "metadata": {
        "colab": {
          "base_uri": "https://localhost:8080/"
        },
        "id": "SQ4DdDRl5x3h",
        "outputId": "a5286f8d-190c-4d8c-e2fa-92f5ad48f8fe"
      },
      "execution_count": 5,
      "outputs": [
        {
          "output_type": "stream",
          "name": "stdout",
          "text": [
            "Mounted at /content/drive\n"
          ]
        }
      ]
    },
    {
      "cell_type": "code",
      "source": [
        "import glob\n",
        "\n",
        "path = '/content/drive/MyDrive/data/Aerial_Cactus_Identification/'\n",
        "\n",
        "files = glob.glob(path + '*')\n",
        "files"
      ],
      "metadata": {
        "colab": {
          "base_uri": "https://localhost:8080/"
        },
        "id": "kNU5DmIE6JpV",
        "outputId": "84b01511-dc17-434a-a6b3-7bfc26ab833a"
      },
      "execution_count": 6,
      "outputs": [
        {
          "output_type": "execute_result",
          "data": {
            "text/plain": [
              "['/content/drive/MyDrive/data/Aerial_Cactus_Identification/sample_submission.csv',\n",
              " '/content/drive/MyDrive/data/Aerial_Cactus_Identification/train.csv',\n",
              " '/content/drive/MyDrive/data/Aerial_Cactus_Identification/test',\n",
              " '/content/drive/MyDrive/data/Aerial_Cactus_Identification/train']"
            ]
          },
          "metadata": {},
          "execution_count": 6
        }
      ]
    },
    {
      "cell_type": "code",
      "source": [
        "labels = pd.read_csv(path + 'train.csv')\n",
        "sub = pd.read_csv(path + 'sample_submission.csv')"
      ],
      "metadata": {
        "id": "Zm6qyO6lKsL2"
      },
      "execution_count": 7,
      "outputs": []
    },
    {
      "cell_type": "markdown",
      "source": [
        "#EDA 이미지 출력"
      ],
      "metadata": {
        "id": "ELdVbHXT9pJv"
      }
    },
    {
      "cell_type": "code",
      "source": [
        "# from zipfile import ZipFile\n",
        "\n",
        "# with ZipFile(path + 'train.zip') as zipper:\n",
        "#     zipper.extractall()\n",
        "\n",
        "# with ZipFile(path + 'test.zip') as zipper:\n",
        "#     zipper.extractall()"
      ],
      "metadata": {
        "id": "IxeEYs5u6V8h"
      },
      "execution_count": 8,
      "outputs": []
    },
    {
      "cell_type": "code",
      "source": [
        "#이미지 개수 체크\n",
        "\n",
        "import os \n",
        "\n",
        "num_train = len(os.listdir(path+'train/'))\n",
        "num_test = len(os.listdir(path+'test/'))\n",
        "num_train,num_test"
      ],
      "metadata": {
        "id": "oybbqOKw-tXA",
        "outputId": "61b8ce29-8096-48ab-f96e-7d6bff54d2db",
        "colab": {
          "base_uri": "https://localhost:8080/"
        }
      },
      "execution_count": 9,
      "outputs": [
        {
          "output_type": "execute_result",
          "data": {
            "text/plain": [
              "(17500, 4000)"
            ]
          },
          "metadata": {},
          "execution_count": 9
        }
      ]
    },
    {
      "cell_type": "code",
      "source": [
        "# 타겟 분포\n",
        "ax = plt.subplot()\n",
        "ax.figure.set_size_inches(6,6)\n",
        "ax.set_title('target distribution',size=20)\n",
        "labels['has_cactus'].value_counts().plot.pie(labels=['has cauts','hasn\\'t cactus'], autopct='%.1f%%')\n",
        "plt.show()"
      ],
      "metadata": {
        "id": "JuMYNpCELBD3",
        "outputId": "2c3c59d0-340a-4d2d-cd2d-7115484ef0ad",
        "colab": {
          "base_uri": "https://localhost:8080/",
          "height": 378
        }
      },
      "execution_count": 10,
      "outputs": [
        {
          "output_type": "display_data",
          "data": {
            "text/plain": [
              "<Figure size 432x432 with 1 Axes>"
            ],
            "image/png": "[encoded data removed]"
          },
          "metadata": {}
        }
      ]
    },
    {
      "cell_type": "markdown",
      "source": [
        "# 훈련 검증 데이터 분리"
      ],
      "metadata": {
        "id": "26GhEgR6POBl"
      }
    },
    {
      "cell_type": "code",
      "source": [
        "train, valid = train_test_split(labels,\n",
        "                                test_size = 0.1, # 컴퓨터 자원이 부족해 원래 데이터의 10%만 사용\n",
        "                                stratify = labels['has_cactus'],\n",
        "                                random_state=42)\n",
        "# train:valid = 9:1\n",
        "train, valid = train_test_split(valid.reset_index(drop=True),\n",
        "                                test_size = 0.1,\n",
        "                                stratify = valid['has_cactus'],\n",
        "                                random_state=42)\n",
        "\n",
        "train.shape, valid.shape"
      ],
      "metadata": {
        "id": "Hhaoxt-xPPuO",
        "outputId": "17e25197-51d4-41d4-83e5-910337360d96",
        "colab": {
          "base_uri": "https://localhost:8080/"
        }
      },
      "execution_count": 11,
      "outputs": [
        {
          "output_type": "execute_result",
          "data": {
            "text/plain": [
              "((1575, 2), (175, 2))"
            ]
          },
          "metadata": {},
          "execution_count": 11
        }
      ]
    },
    {
      "cell_type": "markdown",
      "source": [
        "# 데이터셋 클래스 정의"
      ],
      "metadata": {
        "id": "OvrLiEC4MQYy"
      }
    },
    {
      "cell_type": "markdown",
      "source": [
        "파이토치로 신경망 모델을 구축하려면 데이터셋도 일정한 형식에 맞게 정의해줘야 한다."
      ],
      "metadata": {
        "id": "foM-xx2pMnxS"
      }
    },
    {
      "cell_type": "code",
      "source": [
        "import cv2 # OpenCV 라이브러리\n",
        "from torch.utils.data import Dataset\n",
        "#plt.imshow(cv2.imread(path+'train/'+train.id[0]))\n",
        "\n",
        "class ImageDataset(Dataset):\n",
        "    # 초기화 메서드(생성자)\n",
        "    def __init__(self, df, img_dir='./', transform=None):\n",
        "        super().__init__() #상속받은 Dataset의 생성자 호출\n",
        "        # 전달받은 인수들 저장\n",
        "        self.df = df\n",
        "        self.img_dir = img_dir\n",
        "        self.transform = transform\n",
        "    \n",
        "    # 데이터셋 크기 반환 메서드\n",
        "    def __len__(self):\n",
        "        return len(self.df)\n",
        "\n",
        "    # 인덱스에 해당하는 데이터 반환 메서드\n",
        "    def __getitem__(self, idx):\n",
        "        img_id = self.df.iloc[idx,0]                  # 이미지 ID\n",
        "        img_path = self.img_dir + img_id              # 이미지 파일 경로\n",
        "        image = cv2.imread(img_path)                  # 이미지 파일 읽기\n",
        "        image = cv2.cvtColor(image, cv2.COLOR_BGR2RGB)# 이미지 색상 보정\n",
        "        label = self.df.iloc[idx,1]                   # 이미지 레이블\n",
        "        \n",
        "        if self.transform is not None:\n",
        "            image = self.transform(image)\n",
        "        return image, label\n"
      ],
      "metadata": {
        "id": "q5H4r88DMtW8"
      },
      "execution_count": 12,
      "outputs": []
    },
    {
      "cell_type": "markdown",
      "source": [
        "파이토치 모델로 이미지를 다루려면 이미지 데이터를 텐서 타입으로 바꿔야한다."
      ],
      "metadata": {
        "id": "e1p4AsNaOlpm"
      }
    },
    {
      "cell_type": "code",
      "source": [
        "from torchvision import transforms\n",
        "\n",
        "transform = transforms.ToTensor()"
      ],
      "metadata": {
        "id": "Tf1o7OVVOtkT"
      },
      "execution_count": 13,
      "outputs": []
    },
    {
      "cell_type": "markdown",
      "source": [
        "파이토치로 이미지를 처리할 때는 형상이 (채널수, 가로 픽셀 수 세로 픽셀 수) 순서여야 한다."
      ],
      "metadata": {
        "id": "evVvzCvYO0zc"
      }
    },
    {
      "cell_type": "code",
      "source": [
        "dataset_train = ImageDataset(df=train, img_dir=path+'train/', transform=transform)\n",
        "dataset_valid = ImageDataset(df=valid, img_dir=path+'train/', transform=transform)"
      ],
      "metadata": {
        "id": "zOMLajamPmwl"
      },
      "execution_count": 14,
      "outputs": []
    },
    {
      "cell_type": "code",
      "source": [
        "dataset_train"
      ],
      "metadata": {
        "id": "Q8aMj3BIvCcI",
        "outputId": "071ad35b-372e-4bfa-9c34-91fbe6db3b79",
        "colab": {
          "base_uri": "https://localhost:8080/"
        }
      },
      "execution_count": 15,
      "outputs": [
        {
          "output_type": "execute_result",
          "data": {
            "text/plain": [
              "<__main__.ImageDataset at 0x7f5978995510>"
            ]
          },
          "metadata": {},
          "execution_count": 15
        }
      ]
    },
    {
      "cell_type": "markdown",
      "source": [
        "#데이터 로더 생성"
      ],
      "metadata": {
        "id": "4Ml8ko5ZPGuq"
      }
    },
    {
      "cell_type": "markdown",
      "source": [
        "지정한 배치 크기만큼씩 데이터를 불러오는 객체"
      ],
      "metadata": {
        "id": "Rxr8PC3dQjTT"
      }
    },
    {
      "cell_type": "code",
      "source": [
        "from torch.utils.data import DataLoader\n",
        "\n",
        "loader_train = DataLoader(dataset=dataset_train, batch_size=32, shuffle=True)\n",
        "loader_valid = DataLoader(dataset=dataset_valid, batch_size=32, shuffle=False)"
      ],
      "metadata": {
        "id": "s0nLNaa8QnL-"
      },
      "execution_count": 16,
      "outputs": []
    },
    {
      "cell_type": "markdown",
      "source": [
        "# 베이스라인 모델"
      ],
      "metadata": {
        "id": "IvHLbfWH_C4k"
      }
    },
    {
      "cell_type": "markdown",
      "source": [
        "## 시드값 고정"
      ],
      "metadata": {
        "id": "zJ4ez-YfARM2"
      }
    },
    {
      "cell_type": "code",
      "source": [
        "import torch\n",
        "import random\n",
        "import numpy as np\n",
        "import os\n",
        "\n",
        "# 시드값 고정\n",
        "seed = 42\n",
        "os.environ[\"PYTHONHASHSEED\"] = str(seed)\n",
        "random.seed(seed)                          # 파이썬 난수 \n",
        "np.random.seed(seed)                       # 넘파이 난수\n",
        "torch.manual_seed(seed)                    # 파이토치 난수 CPU 사용시\n",
        "torch.cuda.manual_seed(seed)               # 파이토치 난수 GPU 사용시\n",
        "torch.cuda.manual_seed_all(seed)           # 파이토치 난수 멀티 GPU 사용시\n",
        "torch.backends.cudnn.deterministic = True  # 확정적 연산 사용\n",
        "torch.backends.cudnn.benchmark = False     # 벤치마크 기능 해제\n",
        "torch.backends.cudnn.enalbed = False       # cudnn 사용 해제"
      ],
      "metadata": {
        "id": "SZGbCeleAgix"
      },
      "execution_count": 17,
      "outputs": []
    },
    {
      "cell_type": "code",
      "source": [
        "# 연산에 이용할 장비 할당\n",
        "if torch.cuda.is_available():\n",
        "    device = torch.device('cuda')\n",
        "else:\n",
        "    device = torch.device('cpu')"
      ],
      "metadata": {
        "id": "dCUHT2WCBIym"
      },
      "execution_count": 18,
      "outputs": []
    },
    {
      "cell_type": "markdown",
      "source": [
        "## 모델 생성"
      ],
      "metadata": {
        "id": "ECVx4UDFRIaZ"
      }
    },
    {
      "cell_type": "code",
      "source": [
        "import torch.nn as nn # 신경망 모듈\n",
        "import torch.nn.functional as F # 신경망 모듈에서 자주 사용되는 함수"
      ],
      "metadata": {
        "id": "rDy5C6SuRKZd"
      },
      "execution_count": 19,
      "outputs": []
    },
    {
      "cell_type": "code",
      "source": [
        "class Model(nn.Module):\n",
        "    def __init__(self):\n",
        "        super().__init__()\n",
        "\n",
        "        #첫 번째 합성곱 계층\n",
        "        self.conv1 = nn.Conv2d(in_channels=3, out_channels=32,\n",
        "                               kernel_size=3, padding=2)\n",
        "        self.conv2 = nn.Conv2d(in_channels=32, out_channels=64,\n",
        "                               kernel_size=3, padding=2)\n",
        "        self.max_pool = nn.MaxPool2d(kernel_size=2)        \n",
        "        self.avg_pool = nn.AvgPool2d(kernel_size=2)        \n",
        "        self.fc = nn.Linear(in_features=64 * 4 * 4, out_features=2)\n",
        "\n",
        "    def forward(self, x):\n",
        "        x = self.max_pool(F.relu(self.conv1(x)))\n",
        "        x = self.max_pool(F.relu(self.conv2(x)))\n",
        "        x = self.avg_pool(x)\n",
        "        x = x.view(-1, 64 * 4 * 4) #평탄화\n",
        "        x = self.fc(x)\n",
        "        return x"
      ],
      "metadata": {
        "id": "TPc7XL3IRVfC"
      },
      "execution_count": 20,
      "outputs": []
    },
    {
      "cell_type": "code",
      "source": [
        "# 해당 모델을 GPU에 저장\n",
        "model = Model().to(device)\n",
        "model"
      ],
      "metadata": {
        "id": "4Mxm5EZDU2A8",
        "outputId": "a5ebf5ec-76bd-49f3-a714-fe458383f12c",
        "colab": {
          "base_uri": "https://localhost:8080/"
        }
      },
      "execution_count": 21,
      "outputs": [
        {
          "output_type": "execute_result",
          "data": {
            "text/plain": [
              "Model(\n",
              "  (conv1): Conv2d(3, 32, kernel_size=(3, 3), stride=(1, 1), padding=(2, 2))\n",
              "  (conv2): Conv2d(32, 64, kernel_size=(3, 3), stride=(1, 1), padding=(2, 2))\n",
              "  (max_pool): MaxPool2d(kernel_size=2, stride=2, padding=0, dilation=1, ceil_mode=False)\n",
              "  (avg_pool): AvgPool2d(kernel_size=2, stride=2, padding=0)\n",
              "  (fc): Linear(in_features=1024, out_features=2, bias=True)\n",
              ")"
            ]
          },
          "metadata": {},
          "execution_count": 21
        }
      ]
    },
    {
      "cell_type": "markdown",
      "source": [
        "## 손실 함수 설정"
      ],
      "metadata": {
        "id": "ECJ8gY7DU7Rf"
      }
    },
    {
      "cell_type": "code",
      "source": [
        "criterion = nn.CrossEntropyLoss()"
      ],
      "metadata": {
        "id": "hoBggC_jVNfO"
      },
      "execution_count": 22,
      "outputs": []
    },
    {
      "cell_type": "markdown",
      "source": [
        "## 옵티마이저 설정"
      ],
      "metadata": {
        "id": "_rCa6a92VbKu"
      }
    },
    {
      "cell_type": "code",
      "source": [
        "optimizer = torch.optim.SGD(model.parameters(), lr=0.01)"
      ],
      "metadata": {
        "id": "sFycCgGJVQu9"
      },
      "execution_count": 23,
      "outputs": []
    },
    {
      "cell_type": "markdown",
      "source": [
        "## 학습"
      ],
      "metadata": {
        "id": "rNYBTASnVZvj"
      }
    },
    {
      "cell_type": "code",
      "source": [
        "epochs = 10\n",
        "# 데이터 1/10사용해서 4분\n",
        "for epoch in range(epochs):\n",
        "    epoch_loss = 0 # 에폭별 손실값 초기화\n",
        "\n",
        "    # 반복 횟수 만큼 반복\n",
        "    for images, labels in loader_train:\n",
        "        images = images.to(device)\n",
        "        labels = labels.to(device)\n",
        "\n",
        "        # 옵티마이저 내 기울기 초기화\n",
        "        optimizer.zero_grad()\n",
        "\n",
        "        # 순전파\n",
        "        outputs = model(images)\n",
        "\n",
        "        # 손실함수\n",
        "        loss = criterion(outputs, labels)\n",
        "\n",
        "        # 현재 배치에서의 손실 추가\n",
        "        epoch_loss += loss.item()\n",
        "        loss.backward()\n",
        "\n",
        "        # 가중치 갱신\n",
        "        optimizer.step()\n",
        "\n",
        "    # 훈련 데이터 손실값 출력\n",
        "    print(f'에폭 [{epoch+1}/{epochs}] - 손실값: {epoch_loss/len(loader_train):.4f}')"
      ],
      "metadata": {
        "id": "re1KPfS4VhCu",
        "outputId": "d846538a-bf90-4a12-85ba-4123a60cbbd4",
        "colab": {
          "base_uri": "https://localhost:8080/"
        }
      },
      "execution_count": 24,
      "outputs": [
        {
          "output_type": "stream",
          "name": "stdout",
          "text": [
            "에폭 [1/10] - 손실값: 0.5887\n",
            "에폭 [2/10] - 손실값: 0.5502\n",
            "에폭 [3/10] - 손실값: 0.5420\n",
            "에폭 [4/10] - 손실값: 0.5348\n",
            "에폭 [5/10] - 손실값: 0.5336\n",
            "에폭 [6/10] - 손실값: 0.5178\n",
            "에폭 [7/10] - 손실값: 0.5076\n",
            "에폭 [8/10] - 손실값: 0.4947\n",
            "에폭 [9/10] - 손실값: 0.4742\n",
            "에폭 [10/10] - 손실값: 0.4533\n"
          ]
        }
      ]
    },
    {
      "cell_type": "code",
      "source": [
        "true_list = []\n",
        "preds_list = []\n",
        "\n",
        "# 기울기 ㅖ산 비활성화\n",
        "model.eval()\n",
        "\n",
        "with torch.no_grad():\n",
        "    for images, lables in loader_valid:\n",
        "        # 이미지 레이블 데이터 미니배치 장비에 할당\n",
        "        images = images.to(device)\n",
        "        labels = lables.to(device)\n",
        "\n",
        "        # 순전파 이미지 데이터를 신경망 모델의 입력갑스로 사용해 출력값 계산\n",
        "        outputs = model(images)\n",
        "        preds = torch.softmax(outputs.cpu(), dim=1)[:, 1] # 예측확률\n",
        "        true = labels.cpu() # 실젯값\n",
        "\n",
        "        # 예측 확률과 실젯값을 리스트에 추가\n",
        "        preds_list.extend(preds)\n",
        "        true_list.extend(true)\n",
        "\n",
        "# 검증 데이터 roc auc 점수 계산\n",
        "print(roc_auc_score(true_list, preds_list))"
      ],
      "metadata": {
        "id": "r44FnX8jnO3-",
        "outputId": "3c376ab4-f79c-4fa0-f57a-a42e6376e18a",
        "colab": {
          "base_uri": "https://localhost:8080/"
        }
      },
      "execution_count": 31,
      "outputs": [
        {
          "output_type": "stream",
          "name": "stdout",
          "text": [
            "0.9524635669673838\n"
          ]
        }
      ]
    },
    {
      "cell_type": "markdown",
      "source": [
        "# 예측 및 결과제출"
      ],
      "metadata": {
        "id": "3xE4nW76pzXv"
      }
    },
    {
      "cell_type": "code",
      "source": [
        "dataset_test.__len__()"
      ],
      "metadata": {
        "id": "5bwKOStNy1ZJ",
        "outputId": "c7ac9515-7da3-488f-9936-728ccc050146",
        "colab": {
          "base_uri": "https://localhost:8080/"
        }
      },
      "execution_count": 51,
      "outputs": [
        {
          "output_type": "execute_result",
          "data": {
            "text/plain": [
              "4000"
            ]
          },
          "metadata": {},
          "execution_count": 51
        }
      ]
    },
    {
      "cell_type": "code",
      "source": [
        "dataset_test = ImageDataset(df=sub, img_dir=path+'test/', transform=transform)\n",
        "loader_test = DataLoader(dataset=dataset_test, batch_size=32, shuffle=False)"
      ],
      "metadata": {
        "id": "eVN5_7uOrsP7"
      },
      "execution_count": 36,
      "outputs": []
    },
    {
      "cell_type": "code",
      "source": [
        "# 모델을 평가상태로 설정\n",
        "model.eval()\n",
        "\n",
        "# 타겟 예측값 저장용 리스트 초기화\n",
        "preds = []\n",
        "\n",
        "# 기울기 계산 비활성화 (검증, 테스트 시에는 역전파를 사용하지 않기 때문)\n",
        "with torch.no_grad():\n",
        "    for images, _ in loader_test:\n",
        "        # 이미지 데이터 미니배치를 장비에 할당\n",
        "        images = images.to(device)\n",
        "\n",
        "        # 순전파 이미지 데이터를 신경망 모델의 입력값으로 사용해 출력값 계산\n",
        "        outputs = model(images)\n",
        "        # 타겟값이 1인 확률(예측값)\n",
        "        preds_part = torch.softmax(outputs.cpu(), dim=1)[:,1].tolist()\n",
        "        # preds에 preds_part 이어붙이기\n",
        "        preds.extend(preds_part)"
      ],
      "metadata": {
        "id": "yloYLpdWsGRK"
      },
      "execution_count": 52,
      "outputs": []
    },
    {
      "cell_type": "markdown",
      "source": [
        "# 결과 제출"
      ],
      "metadata": {
        "id": "y4-nQsvttSuR"
      }
    },
    {
      "cell_type": "code",
      "source": [
        "sub['has_cactus'] = preds\n",
        "sub.to_csv('sub.csv', index=False)"
      ],
      "metadata": {
        "id": "yArAks3stVT5"
      },
      "execution_count": 53,
      "outputs": []
    },
    {
      "cell_type": "markdown",
      "source": [
        "# 성능 개선"
      ],
      "metadata": {
        "id": "TYxvPrDGtMoN"
      }
    },
    {
      "cell_type": "markdown",
      "source": [
        "1. 다양한 이미지 변환 수행\n",
        "2. 더 깊은 CNN 모델\n",
        "3. 더 뛰어난 옵티마이저 사용\n",
        "4. 훈련 시 에폭 수 증가"
      ],
      "metadata": {
        "id": "_jHPNk5Itiin"
      }
    },
    {
      "cell_type": "code",
      "source": [],
      "metadata": {
        "id": "thQRsCyhtsUx"
      },
      "execution_count": null,
      "outputs": []
    }
  ]
}