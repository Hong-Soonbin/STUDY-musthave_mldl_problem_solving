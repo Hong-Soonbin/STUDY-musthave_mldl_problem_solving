{
  "nbformat": 4,
  "nbformat_minor": 0,
  "metadata": {
    "colab": {
      "name": "performance_improvement.ipynb",
      "provenance": [],
      "authorship_tag": "ABX9TyMYZxroiBwVxMOecdQK/6Z6",
      "include_colab_link": true
    },
    "kernelspec": {
      "name": "python3",
      "display_name": "Python 3"
    },
    "language_info": {
      "name": "python"
    },
    "accelerator": "GPU",
    "gpuClass": "standard"
  },
  "cells": [
    {
      "cell_type": "markdown",
      "metadata": {
        "id": "view-in-github",
        "colab_type": "text"
      },
      "source": [
        "<a href=\"https://colab.research.google.com/github/Hong-Soonbin/STUDY-musthave_mldl_problem_solving/blob/main/performance_improvement.ipynb\" target=\"_parent\"><img src=\"https://colab.research.google.com/assets/colab-badge.svg\" alt=\"Open In Colab\"/></a>"
      ]
    },
    {
      "cell_type": "markdown",
      "source": [
        "#import"
      ],
      "metadata": {
        "id": "Zo4Hn9KyxVpn"
      }
    },
    {
      "cell_type": "code",
      "execution_count": 1,
      "metadata": {
        "colab": {
          "base_uri": "https://localhost:8080/",
          "height": 54
        },
        "id": "k3l_wgc6wuZq",
        "outputId": "90112608-069e-41c4-98ca-db4dac820c19"
      },
      "outputs": [
        {
          "output_type": "stream",
          "name": "stdout",
          "text": [
            "Drive already mounted at /content/drive; to attempt to forcibly remount, call drive.mount(\"/content/drive\", force_remount=True).\n"
          ]
        },
        {
          "output_type": "display_data",
          "data": {
            "text/plain": [
              "<Figure size 504x432 with 0 Axes>"
            ]
          },
          "metadata": {}
        }
      ],
      "source": [
        "# !sudo apt-get install -y fonts-nanum\n",
        "# !sudo fc-cache -fv\n",
        "# !rm ~/.cache/matplotlib -rf\n",
        "import seaborn as sns\n",
        "import matplotlib.pyplot as plt\n",
        "plt.rcParams['axes.unicode_minus'] = False\n",
        "plt.rc('font', family='NanumBarunGothic') \n",
        "import matplotlib.gridspec as gridspec\n",
        "import matplotlib as mpl\n",
        "%matplotlib inline\n",
        "\n",
        "mpl.rc('font', size = 15)\n",
        "plt.figure(figsize=(7,6))\n",
        "\n",
        "\n",
        "import numpy as np\n",
        "import pandas as pd\n",
        "\n",
        "import os\n",
        "import glob\n",
        "\n",
        "from google.colab import drive\n",
        "drive.mount('/content/drive')\n",
        "\n",
        "data_path = '/content/drive/MyDrive/data/competitive-data-science-predict-future-sales/'\n",
        "\n",
        "sales_train = pd.read_csv(data_path + 'sales_train.csv')\n",
        "shops = pd.read_csv(data_path + 'shops.csv')\n",
        "items = pd.read_csv(data_path + 'items.csv')\n",
        "item_categories = pd.read_csv(data_path + 'item_categories.csv')\n",
        "test = pd.read_csv(data_path + 'test.csv')\n",
        "submission = pd.read_csv(data_path + 'sample_submission.csv')"
      ]
    },
    {
      "cell_type": "markdown",
      "source": [
        "#피처 다운캐스팅, 피처명 한글화"
      ],
      "metadata": {
        "id": "zWLlpqRexJvc"
      }
    },
    {
      "cell_type": "code",
      "source": [
        "#피처 한글화\n",
        "sales_train = sales_train.rename(columns={'date': '날짜', \n",
        "                                          'date_block_num': '월ID',\n",
        "                                          'shop_id': '상점ID',\n",
        "                                          'item_id': '상품ID',\n",
        "                                          'item_price': '판매가',\n",
        "                                          'item_cnt_day': '판매량'})\n",
        "\n",
        "shops = shops.rename(columns={'shop_name': '상점명',\n",
        "                              'shop_id': '상점ID'})\n",
        "\n",
        "items = items.rename(columns={'item_name': '상품명',\n",
        "                              'item_id': '상품ID',\n",
        "                              'item_category_id': '상품분류ID'})\n",
        "\n",
        "item_categories = item_categories.rename(columns=\n",
        "                                         {'item_category_name': '상품분류명',\n",
        "                                          'item_category_id': '상품분류ID'})\n",
        "\n",
        "test = test.rename(columns={'shop_id': '상점ID',\n",
        "                            'item_id': '상품ID'})"
      ],
      "metadata": {
        "id": "SbakAKS8xZoP"
      },
      "execution_count": 2,
      "outputs": []
    },
    {
      "cell_type": "code",
      "source": [
        "#다운캐스팅\n",
        "def downcast(df, verbose=True):\n",
        "    start_mem = df.memory_usage().sum() / 1024**2\n",
        "    for col in df.columns:\n",
        "        dtype_name = df[col].dtype.name\n",
        "        if dtype_name == 'object':\n",
        "            pass\n",
        "        elif dtype_name == 'bool':\n",
        "            df[col] = df[col].astype('int8')\n",
        "        elif dtype_name.startswith('int') or (df[col].round() == df[col]).all():\n",
        "            df[col] = pd.to_numeric(df[col], downcast='integer')\n",
        "        else:\n",
        "            df[col] = pd.to_numeric(df[col], downcast='float')\n",
        "    end_mem = df.memory_usage().sum() / 1024**2\n",
        "    if verbose:\n",
        "        print('{:.1f}% 압축됨'.format(100 * (start_mem - end_mem) / start_mem))\n",
        "    \n",
        "    return df"
      ],
      "metadata": {
        "id": "P_qaVPbdxhyX"
      },
      "execution_count": 3,
      "outputs": []
    },
    {
      "cell_type": "code",
      "source": [
        "#다운캐스팅을 통해서 데이터의 메모리를 줄이고 학습속도를 향상시키자\n",
        "all_df = [sales_train, shops, items, item_categories, test]\n",
        "for df in all_df:\n",
        "    df = downcast(df)"
      ],
      "metadata": {
        "colab": {
          "base_uri": "https://localhost:8080/"
        },
        "id": "50973RJjxlJZ",
        "outputId": "50bcf07a-d6cd-4648-9ce3-c3f7d13e67d5"
      },
      "execution_count": 4,
      "outputs": [
        {
          "output_type": "stream",
          "name": "stdout",
          "text": [
            "62.5% 압축됨\n",
            "38.6% 압축됨\n",
            "54.2% 압축됨\n",
            "39.9% 압축됨\n",
            "70.8% 압축됨\n"
          ]
        }
      ]
    },
    {
      "cell_type": "markdown",
      "source": [
        "#개별 데이터 피처 엔지니어링"
      ],
      "metadata": {
        "id": "CuoK4XsqxoAD"
      }
    },
    {
      "cell_type": "code",
      "source": [
        "#이상치 제거\n",
        "sales_train_outlier = sales_train[(0 < sales_train['판매가']) & (sales_train['판매가'] < 50000)]\n",
        "sales_train_outlier = sales_train_outlier[(0 < sales_train['판매량']) & (sales_train['판매량'] < 1000)]\n",
        "sales_train_outlier"
      ],
      "metadata": {
        "colab": {
          "base_uri": "https://localhost:8080/",
          "height": 461
        },
        "id": "9tu46NEP2t7P",
        "outputId": "d958ee14-7344-4fff-b255-5ce0194a1159"
      },
      "execution_count": 5,
      "outputs": [
        {
          "output_type": "stream",
          "name": "stderr",
          "text": [
            "/usr/local/lib/python3.7/dist-packages/ipykernel_launcher.py:3: UserWarning: Boolean Series key will be reindexed to match DataFrame index.\n",
            "  This is separate from the ipykernel package so we can avoid doing imports until\n"
          ]
        },
        {
          "output_type": "execute_result",
          "data": {
            "text/plain": [
              "                 날짜  월ID  상점ID   상품ID          판매가  판매량\n",
              "0        02.01.2013    0    59  22154   999.000000    1\n",
              "1        03.01.2013    0    25   2552   899.000000    1\n",
              "3        06.01.2013    0    25   2554  1709.050049    1\n",
              "4        15.01.2013    0    25   2555  1099.000000    1\n",
              "5        10.01.2013    0    25   2564   349.000000    1\n",
              "...             ...  ...   ...    ...          ...  ...\n",
              "2935844  10.10.2015   33    25   7409   299.000000    1\n",
              "2935845  09.10.2015   33    25   7460   299.000000    1\n",
              "2935846  14.10.2015   33    25   7459   349.000000    1\n",
              "2935847  22.10.2015   33    25   7440   299.000000    1\n",
              "2935848  03.10.2015   33    25   7460   299.000000    1\n",
              "\n",
              "[2928487 rows x 6 columns]"
            ],
            "text/html": [
              "\n",
              "  <div id=\"df-47b2006a-b3ff-4173-96b4-f797e8f8132f\">\n",
              "    <div class=\"colab-df-container\">\n",
              "      <div>\n",
              "<style scoped>\n",
              "    .dataframe tbody tr th:only-of-type {\n",
              "        vertical-align: middle;\n",
              "    }\n",
              "\n",
              "    .dataframe tbody tr th {\n",
              "        vertical-align: top;\n",
              "    }\n",
              "\n",
              "    .dataframe thead th {\n",
              "        text-align: right;\n",
              "    }\n",
              "</style>\n",
              "<table border=\"1\" class=\"dataframe\">\n",
              "  <thead>\n",
              "    <tr style=\"text-align: right;\">\n",
              "      <th></th>\n",
              "      <th>날짜</th>\n",
              "      <th>월ID</th>\n",
              "      <th>상점ID</th>\n",
              "      <th>상품ID</th>\n",
              "      <th>판매가</th>\n",
              "      <th>판매량</th>\n",
              "    </tr>\n",
              "  </thead>\n",
              "  <tbody>\n",
              "    <tr>\n",
              "      <th>0</th>\n",
              "      <td>02.01.2013</td>\n",
              "      <td>0</td>\n",
              "      <td>59</td>\n",
              "      <td>22154</td>\n",
              "      <td>999.000000</td>\n",
              "      <td>1</td>\n",
              "    </tr>\n",
              "    <tr>\n",
              "      <th>1</th>\n",
              "      <td>03.01.2013</td>\n",
              "      <td>0</td>\n",
              "      <td>25</td>\n",
              "      <td>2552</td>\n",
              "      <td>899.000000</td>\n",
              "      <td>1</td>\n",
              "    </tr>\n",
              "    <tr>\n",
              "      <th>3</th>\n",
              "      <td>06.01.2013</td>\n",
              "      <td>0</td>\n",
              "      <td>25</td>\n",
              "      <td>2554</td>\n",
              "      <td>1709.050049</td>\n",
              "      <td>1</td>\n",
              "    </tr>\n",
              "    <tr>\n",
              "      <th>4</th>\n",
              "      <td>15.01.2013</td>\n",
              "      <td>0</td>\n",
              "      <td>25</td>\n",
              "      <td>2555</td>\n",
              "      <td>1099.000000</td>\n",
              "      <td>1</td>\n",
              "    </tr>\n",
              "    <tr>\n",
              "      <th>5</th>\n",
              "      <td>10.01.2013</td>\n",
              "      <td>0</td>\n",
              "      <td>25</td>\n",
              "      <td>2564</td>\n",
              "      <td>349.000000</td>\n",
              "      <td>1</td>\n",
              "    </tr>\n",
              "    <tr>\n",
              "      <th>...</th>\n",
              "      <td>...</td>\n",
              "      <td>...</td>\n",
              "      <td>...</td>\n",
              "      <td>...</td>\n",
              "      <td>...</td>\n",
              "      <td>...</td>\n",
              "    </tr>\n",
              "    <tr>\n",
              "      <th>2935844</th>\n",
              "      <td>10.10.2015</td>\n",
              "      <td>33</td>\n",
              "      <td>25</td>\n",
              "      <td>7409</td>\n",
              "      <td>299.000000</td>\n",
              "      <td>1</td>\n",
              "    </tr>\n",
              "    <tr>\n",
              "      <th>2935845</th>\n",
              "      <td>09.10.2015</td>\n",
              "      <td>33</td>\n",
              "      <td>25</td>\n",
              "      <td>7460</td>\n",
              "      <td>299.000000</td>\n",
              "      <td>1</td>\n",
              "    </tr>\n",
              "    <tr>\n",
              "      <th>2935846</th>\n",
              "      <td>14.10.2015</td>\n",
              "      <td>33</td>\n",
              "      <td>25</td>\n",
              "      <td>7459</td>\n",
              "      <td>349.000000</td>\n",
              "      <td>1</td>\n",
              "    </tr>\n",
              "    <tr>\n",
              "      <th>2935847</th>\n",
              "      <td>22.10.2015</td>\n",
              "      <td>33</td>\n",
              "      <td>25</td>\n",
              "      <td>7440</td>\n",
              "      <td>299.000000</td>\n",
              "      <td>1</td>\n",
              "    </tr>\n",
              "    <tr>\n",
              "      <th>2935848</th>\n",
              "      <td>03.10.2015</td>\n",
              "      <td>33</td>\n",
              "      <td>25</td>\n",
              "      <td>7460</td>\n",
              "      <td>299.000000</td>\n",
              "      <td>1</td>\n",
              "    </tr>\n",
              "  </tbody>\n",
              "</table>\n",
              "<p>2928487 rows × 6 columns</p>\n",
              "</div>\n",
              "      <button class=\"colab-df-convert\" onclick=\"convertToInteractive('df-47b2006a-b3ff-4173-96b4-f797e8f8132f')\"\n",
              "              title=\"Convert this dataframe to an interactive table.\"\n",
              "              style=\"display:none;\">\n",
              "        \n",
              "  <svg xmlns=\"http://www.w3.org/2000/svg\" height=\"24px\"viewBox=\"0 0 24 24\"\n",
              "       width=\"24px\">\n",
              "    <path d=\"M0 0h24v24H0V0z\" fill=\"none\"/>\n",
              "    <path d=\"M18.56 5.44l.94 2.06.94-2.06 2.06-.94-2.06-.94-.94-2.06-.94 2.06-2.06.94zm-11 1L8.5 8.5l.94-2.06 2.06-.94-2.06-.94L8.5 2.5l-.94 2.06-2.06.94zm10 10l.94 2.06.94-2.06 2.06-.94-2.06-.94-.94-2.06-.94 2.06-2.06.94z\"/><path d=\"M17.41 7.96l-1.37-1.37c-.4-.4-.92-.59-1.43-.59-.52 0-1.04.2-1.43.59L10.3 9.45l-7.72 7.72c-.78.78-.78 2.05 0 2.83L4 21.41c.39.39.9.59 1.41.59.51 0 1.02-.2 1.41-.59l7.78-7.78 2.81-2.81c.8-.78.8-2.07 0-2.86zM5.41 20L4 18.59l7.72-7.72 1.47 1.35L5.41 20z\"/>\n",
              "  </svg>\n",
              "      </button>\n",
              "      \n",
              "  <style>\n",
              "    .colab-df-container {\n",
              "      display:flex;\n",
              "      flex-wrap:wrap;\n",
              "      gap: 12px;\n",
              "    }\n",
              "\n",
              "    .colab-df-convert {\n",
              "      background-color: #E8F0FE;\n",
              "      border: none;\n",
              "      border-radius: 50%;\n",
              "      cursor: pointer;\n",
              "      display: none;\n",
              "      fill: #1967D2;\n",
              "      height: 32px;\n",
              "      padding: 0 0 0 0;\n",
              "      width: 32px;\n",
              "    }\n",
              "\n",
              "    .colab-df-convert:hover {\n",
              "      background-color: #E2EBFA;\n",
              "      box-shadow: 0px 1px 2px rgba(60, 64, 67, 0.3), 0px 1px 3px 1px rgba(60, 64, 67, 0.15);\n",
              "      fill: #174EA6;\n",
              "    }\n",
              "\n",
              "    [theme=dark] .colab-df-convert {\n",
              "      background-color: #3B4455;\n",
              "      fill: #D2E3FC;\n",
              "    }\n",
              "\n",
              "    [theme=dark] .colab-df-convert:hover {\n",
              "      background-color: #434B5C;\n",
              "      box-shadow: 0px 1px 3px 1px rgba(0, 0, 0, 0.15);\n",
              "      filter: drop-shadow(0px 1px 2px rgba(0, 0, 0, 0.3));\n",
              "      fill: #FFFFFF;\n",
              "    }\n",
              "  </style>\n",
              "\n",
              "      <script>\n",
              "        const buttonEl =\n",
              "          document.querySelector('#df-47b2006a-b3ff-4173-96b4-f797e8f8132f button.colab-df-convert');\n",
              "        buttonEl.style.display =\n",
              "          google.colab.kernel.accessAllowed ? 'block' : 'none';\n",
              "\n",
              "        async function convertToInteractive(key) {\n",
              "          const element = document.querySelector('#df-47b2006a-b3ff-4173-96b4-f797e8f8132f');\n",
              "          const dataTable =\n",
              "            await google.colab.kernel.invokeFunction('convertToInteractive',\n",
              "                                                     [key], {});\n",
              "          if (!dataTable) return;\n",
              "\n",
              "          const docLinkHtml = 'Like what you see? Visit the ' +\n",
              "            '<a target=\"_blank\" href=https://colab.research.google.com/notebooks/data_table.ipynb>data table notebook</a>'\n",
              "            + ' to learn more about interactive tables.';\n",
              "          element.innerHTML = '';\n",
              "          dataTable['output_type'] = 'display_data';\n",
              "          await google.colab.output.renderOutput(dataTable, element);\n",
              "          const docLink = document.createElement('div');\n",
              "          docLink.innerHTML = docLinkHtml;\n",
              "          element.appendChild(docLink);\n",
              "        }\n",
              "      </script>\n",
              "    </div>\n",
              "  </div>\n",
              "  "
            ]
          },
          "metadata": {},
          "execution_count": 5
        }
      ]
    },
    {
      "cell_type": "code",
      "source": [
        "plt.figure(figsize=(18,8)) \n",
        "grid = gridspec.GridSpec(2,2)\n",
        "plt.subplots_adjust(wspace=0.3, hspace=0.3)\n",
        "\n",
        "ax=plt.subplot(grid[0])\n",
        "sns.boxplot(y='판매가',data=sales_train,ax=ax)\n",
        "ax.set_title('이상치 제거 전')\n",
        "\n",
        "ax=plt.subplot(grid[2])\n",
        "sns.boxplot(y='판매량',data=sales_train,ax=ax)\n",
        "ax.set_title('이상치 제거 전')\n",
        "\n",
        "ax=plt.subplot(grid[1])\n",
        "sns.boxplot(y='판매가',data=sales_train_outlier,ax=ax)\n",
        "ax.set_title('이상치 제거 후')\n",
        "\n",
        "ax=plt.subplot(grid[3])\n",
        "sns.boxplot(y='판매량',data=sales_train_outlier,ax=ax)\n",
        "ax.set_title('이상치 제거 후')\n",
        "\n",
        "plt.show()"
      ],
      "metadata": {
        "colab": {
          "base_uri": "https://localhost:8080/",
          "height": 490
        },
        "id": "BIJ0gC8Lxwes",
        "outputId": "37c67878-10f0-45f4-a0e9-242aab852b9e"
      },
      "execution_count": 6,
      "outputs": [
        {
          "output_type": "display_data",
          "data": {
            "text/plain": [
              "<Figure size 1296x576 with 4 Axes>"
            ],
            "image/png": "[encoded data removed]"
          },
          "metadata": {
            "needs_background": "light"
          }
        }
      ]
    },
    {
      "cell_type": "markdown",
      "source": [
        "이상치때문에 boxplot이 찌그러진줄 알았는데 제거해도 여전히 찌그러져있다."
      ],
      "metadata": {
        "id": "EUQsWW4O4F7V"
      }
    },
    {
      "cell_type": "markdown",
      "source": [
        "상점명에 유사해보이는 값이 몇몇 존재한다. tfidf cosine_similarity를 통해서 관계를 알아보자"
      ],
      "metadata": {
        "id": "hsPW2yC9-UKP"
      }
    },
    {
      "cell_type": "code",
      "source": [
        "from sklearn.feature_extraction.text import TfidfVectorizer\n",
        "tf = TfidfVectorizer().fit_transform(shops['상점명'].to_list()).toarray()\n",
        "\n",
        "from sklearn.metrics.pairwise import cosine_similarity\n",
        "\n",
        "tf = pd.DataFrame(tf)\n",
        "\n",
        "df = pd.DataFrame(cosine_similarity(tf,tf))\n",
        "\n",
        "#유사도 index 순위\n",
        "import re\n",
        "[re.sub('\\s+',' ',i).split() for i in str(df[df<(1-1e-6)].idxmax()).split('\\n')]\n",
        "\n",
        "plt.figure(figsize=(16,16)) \n",
        "sns.heatmap(df[df>0.5])"
      ],
      "metadata": {
        "colab": {
          "base_uri": "https://localhost:8080/",
          "height": 949
        },
        "id": "bpt6S7qC5a09",
        "outputId": "529e2539-dfe1-45e7-b931-0d3612c2a6c8"
      },
      "execution_count": 7,
      "outputs": [
        {
          "output_type": "execute_result",
          "data": {
            "text/plain": [
              "<matplotlib.axes._subplots.AxesSubplot at 0x7f830ad7db90>"
            ]
          },
          "metadata": {},
          "execution_count": 7
        },
        {
          "output_type": "display_data",
          "data": {
            "text/plain": [
              "<Figure size 1152x1152 with 2 Axes>"
            ],
            "image/png": "[encoded data removed]"
          },
          "metadata": {
            "needs_background": "light"
          }
        }
      ]
    },
    {
      "cell_type": "code",
      "source": [
        "#유사도 index 순위\n",
        "import re\n",
        "[re.sub('\\s+',' ',i).split() for i in str(df[df<(1-1e-6)].idxmax()).split('\\n')]"
      ],
      "metadata": {
        "colab": {
          "base_uri": "https://localhost:8080/"
        },
        "id": "_JRBFxCa-FbC",
        "outputId": "26f047e6-73f1-4049-9779-420d4dff4617"
      },
      "execution_count": 8,
      "outputs": [
        {
          "output_type": "execute_result",
          "data": {
            "text/plain": [
              "[['0', '57'],\n",
              " ['1', '58'],\n",
              " ['2', '41'],\n",
              " ['3', '25'],\n",
              " ['4', '47'],\n",
              " ['5', '34'],\n",
              " ['6', '7'],\n",
              " ['7', '8'],\n",
              " ['8', '7'],\n",
              " ['9', '0'],\n",
              " ['10', '11'],\n",
              " ['11', '10'],\n",
              " ['12', '22'],\n",
              " ['13', '14'],\n",
              " ['14', '45'],\n",
              " ['15', '29'],\n",
              " ['16', '34'],\n",
              " ['17', '18'],\n",
              " ['18', '17'],\n",
              " ['19', '41'],\n",
              " ['20', '30'],\n",
              " ['21', '4'],\n",
              " ['22', '12'],\n",
              " ['23', '24'],\n",
              " ['24', '23'],\n",
              " ['25', '33'],\n",
              " ['26', '30'],\n",
              " ['27', '28'],\n",
              " ['28', '27'],\n",
              " ['29', '15'],\n",
              " ['30', '31'],\n",
              " ['31', '30'],\n",
              " ['32', '30'],\n",
              " ['33', '25'],\n",
              " ['34', '35'],\n",
              " ['35', '34'],\n",
              " ['36', '37'],\n",
              " ['37', '36'],\n",
              " ['38', '41'],\n",
              " ['39', '40'],\n",
              " ['40', '39'],\n",
              " ['41', '37'],\n",
              " ['42', '43'],\n",
              " ['43', '42'],\n",
              " ['44', '45'],\n",
              " ['45', '44'],\n",
              " ['46', '41'],\n",
              " ['47', '8'],\n",
              " ['48', '34'],\n",
              " ['49', '50'],\n",
              " ['50', '51'],\n",
              " ['51', '50'],\n",
              " ['52', '53'],\n",
              " ['53', '52'],\n",
              " ['54', '41'],\n",
              " ['55', '0'],\n",
              " ['56', '34'],\n",
              " ['57', '0'],\n",
              " ['58', '1'],\n",
              " ['59', '41'],\n",
              " ['dtype:', 'int64']]"
            ]
          },
          "metadata": {},
          "execution_count": 8
        }
      ]
    },
    {
      "cell_type": "markdown",
      "source": [
        "나름 책에서 제시하지않은 참신한 방법이라고 생각했는데 똑같은 의미를 가진 4쌍중 3쌍은 상위에 있었지만 하나는 중위권이었고 상위3개를 제외한 나머지 상위권은 지역은 다르지만 플랫폼이 같아서 유사도가 높았다.<br>\n",
        "일일이 직접 탐색하는것 보다는 빠르니 의미가 있었다고 생각한다!"
      ],
      "metadata": {
        "id": "NaQR2jDpAhFq"
      }
    },
    {
      "cell_type": "code",
      "source": [
        "# sales_train 데이터에서 상점ID 수정\n",
        "sales_train.loc[sales_train['상점ID'] == 0, '상점ID'] = 57\n",
        "sales_train.loc[sales_train['상점ID'] == 1, '상점ID'] = 58\n",
        "sales_train.loc[sales_train['상점ID'] == 10, '상점ID'] = 11\n",
        "sales_train.loc[sales_train['상점ID'] == 39, '상점ID'] = 40\n",
        "\n",
        "# test 데이터에서 상점ID 수정\n",
        "test.loc[test['상점ID'] == 0, '상점ID'] = 57\n",
        "test.loc[test['상점ID'] == 1, '상점ID'] = 58\n",
        "test.loc[test['상점ID'] == 10, '상점ID'] = 11\n",
        "test.loc[test['상점ID'] == 39, '상점ID'] = 40"
      ],
      "metadata": {
        "id": "U7Nbe5UL8Rby"
      },
      "execution_count": 9,
      "outputs": []
    },
    {
      "cell_type": "code",
      "source": [
        "shops['도시'] = shops['상점명'].apply(lambda x: x.split()[0])"
      ],
      "metadata": {
        "id": "APuqduhxGRmr"
      },
      "execution_count": 10,
      "outputs": []
    },
    {
      "cell_type": "code",
      "source": [
        "shops['도시'].unique()"
      ],
      "metadata": {
        "colab": {
          "base_uri": "https://localhost:8080/"
        },
        "id": "NHMhaXLoGWg_",
        "outputId": "04d29ffe-356a-4ffe-8725-6dad0daedf03"
      },
      "execution_count": 11,
      "outputs": [
        {
          "output_type": "execute_result",
          "data": {
            "text/plain": [
              "array(['!Якутск', 'Адыгея', 'Балашиха', 'Волжский', 'Вологда', 'Воронеж',\n",
              "       'Выездная', 'Жуковский', 'Интернет-магазин', 'Казань', 'Калуга',\n",
              "       'Коломна', 'Красноярск', 'Курск', 'Москва', 'Мытищи', 'Н.Новгород',\n",
              "       'Новосибирск', 'Омск', 'РостовНаДону', 'СПб', 'Самара', 'Сергиев',\n",
              "       'Сургут', 'Томск', 'Тюмень', 'Уфа', 'Химки', 'Цифровой', 'Чехов',\n",
              "       'Якутск', 'Ярославль'], dtype=object)"
            ]
          },
          "metadata": {},
          "execution_count": 11
        }
      ]
    },
    {
      "cell_type": "code",
      "source": [
        "tf = TfidfVectorizer().fit_transform(shops['도시'].unique()).toarray()\n",
        "tf = pd.DataFrame(tf)\n",
        "df = pd.DataFrame(cosine_similarity(tf,tf))\n",
        "\n",
        "plt.figure(figsize=(8,8)) \n",
        "sns.heatmap(df[df>0.5])"
      ],
      "metadata": {
        "colab": {
          "base_uri": "https://localhost:8080/",
          "height": 514
        },
        "id": "yTeDi3HKGmrd",
        "outputId": "7dd5c4c9-065a-4301-c80b-fb5fab811507"
      },
      "execution_count": 12,
      "outputs": [
        {
          "output_type": "execute_result",
          "data": {
            "text/plain": [
              "<matplotlib.axes._subplots.AxesSubplot at 0x7f8308514950>"
            ]
          },
          "metadata": {},
          "execution_count": 12
        },
        {
          "output_type": "display_data",
          "data": {
            "text/plain": [
              "<Figure size 576x576 with 2 Axes>"
            ],
            "image/png": "[encoded data removed]"
          },
          "metadata": {
            "needs_background": "light"
          }
        }
      ]
    },
    {
      "cell_type": "code",
      "source": [
        "print(shops['도시'].unique()[30],'\\n',shops['도시'].unique()[0])"
      ],
      "metadata": {
        "colab": {
          "base_uri": "https://localhost:8080/"
        },
        "id": "MAGTNCUmG3DX",
        "outputId": "8e7c96c1-f175-4bd3-e896-f88ecce5ef5c"
      },
      "execution_count": 13,
      "outputs": [
        {
          "output_type": "stream",
          "name": "stdout",
          "text": [
            "Якутск \n",
            " !Якутск\n"
          ]
        }
      ]
    },
    {
      "cell_type": "markdown",
      "source": [
        "도시명에 !는 오타로 보이니 바꿔주자"
      ],
      "metadata": {
        "id": "vhn1HEIbG4h0"
      }
    },
    {
      "cell_type": "code",
      "source": [
        "shops.loc[shops['도시'] =='!Якутск', '도시'] = 'Якутск'"
      ],
      "metadata": {
        "id": "CgoTlv2OG-OF"
      },
      "execution_count": 14,
      "outputs": []
    },
    {
      "cell_type": "code",
      "source": [
        "from sklearn.preprocessing import LabelEncoder\n",
        "\n",
        "# 레이블 인코더 생성\n",
        "label_encoder = LabelEncoder()\n",
        "# 도시 피처 레이블 인코딩\n",
        "shops['도시'] = label_encoder.fit_transform(shops['도시'])"
      ],
      "metadata": {
        "id": "oDm-Cw0eG_sY"
      },
      "execution_count": 15,
      "outputs": []
    },
    {
      "cell_type": "code",
      "source": [
        "try:\n",
        "    shops.drop('상점명',axis=1,inplace=True)\n",
        "except:\n",
        "    print('이미 제거했어용')\n",
        "\n",
        "shops.head()"
      ],
      "metadata": {
        "colab": {
          "base_uri": "https://localhost:8080/",
          "height": 206
        },
        "id": "es2MfigyHDPO",
        "outputId": "67faf79a-4505-4c44-cdc4-b66d34e3d58c"
      },
      "execution_count": 16,
      "outputs": [
        {
          "output_type": "execute_result",
          "data": {
            "text/plain": [
              "   상점ID  도시\n",
              "0     0  29\n",
              "1     1  29\n",
              "2     2   0\n",
              "3     3   1\n",
              "4     4   2"
            ],
            "text/html": [
              "\n",
              "  <div id=\"df-e5a6c659-0a99-490b-8060-fdb0211a2635\">\n",
              "    <div class=\"colab-df-container\">\n",
              "      <div>\n",
              "<style scoped>\n",
              "    .dataframe tbody tr th:only-of-type {\n",
              "        vertical-align: middle;\n",
              "    }\n",
              "\n",
              "    .dataframe tbody tr th {\n",
              "        vertical-align: top;\n",
              "    }\n",
              "\n",
              "    .dataframe thead th {\n",
              "        text-align: right;\n",
              "    }\n",
              "</style>\n",
              "<table border=\"1\" class=\"dataframe\">\n",
              "  <thead>\n",
              "    <tr style=\"text-align: right;\">\n",
              "      <th></th>\n",
              "      <th>상점ID</th>\n",
              "      <th>도시</th>\n",
              "    </tr>\n",
              "  </thead>\n",
              "  <tbody>\n",
              "    <tr>\n",
              "      <th>0</th>\n",
              "      <td>0</td>\n",
              "      <td>29</td>\n",
              "    </tr>\n",
              "    <tr>\n",
              "      <th>1</th>\n",
              "      <td>1</td>\n",
              "      <td>29</td>\n",
              "    </tr>\n",
              "    <tr>\n",
              "      <th>2</th>\n",
              "      <td>2</td>\n",
              "      <td>0</td>\n",
              "    </tr>\n",
              "    <tr>\n",
              "      <th>3</th>\n",
              "      <td>3</td>\n",
              "      <td>1</td>\n",
              "    </tr>\n",
              "    <tr>\n",
              "      <th>4</th>\n",
              "      <td>4</td>\n",
              "      <td>2</td>\n",
              "    </tr>\n",
              "  </tbody>\n",
              "</table>\n",
              "</div>\n",
              "      <button class=\"colab-df-convert\" onclick=\"convertToInteractive('df-e5a6c659-0a99-490b-8060-fdb0211a2635')\"\n",
              "              title=\"Convert this dataframe to an interactive table.\"\n",
              "              style=\"display:none;\">\n",
              "        \n",
              "  <svg xmlns=\"http://www.w3.org/2000/svg\" height=\"24px\"viewBox=\"0 0 24 24\"\n",
              "       width=\"24px\">\n",
              "    <path d=\"M0 0h24v24H0V0z\" fill=\"none\"/>\n",
              "    <path d=\"M18.56 5.44l.94 2.06.94-2.06 2.06-.94-2.06-.94-.94-2.06-.94 2.06-2.06.94zm-11 1L8.5 8.5l.94-2.06 2.06-.94-2.06-.94L8.5 2.5l-.94 2.06-2.06.94zm10 10l.94 2.06.94-2.06 2.06-.94-2.06-.94-.94-2.06-.94 2.06-2.06.94z\"/><path d=\"M17.41 7.96l-1.37-1.37c-.4-.4-.92-.59-1.43-.59-.52 0-1.04.2-1.43.59L10.3 9.45l-7.72 7.72c-.78.78-.78 2.05 0 2.83L4 21.41c.39.39.9.59 1.41.59.51 0 1.02-.2 1.41-.59l7.78-7.78 2.81-2.81c.8-.78.8-2.07 0-2.86zM5.41 20L4 18.59l7.72-7.72 1.47 1.35L5.41 20z\"/>\n",
              "  </svg>\n",
              "      </button>\n",
              "      \n",
              "  <style>\n",
              "    .colab-df-container {\n",
              "      display:flex;\n",
              "      flex-wrap:wrap;\n",
              "      gap: 12px;\n",
              "    }\n",
              "\n",
              "    .colab-df-convert {\n",
              "      background-color: #E8F0FE;\n",
              "      border: none;\n",
              "      border-radius: 50%;\n",
              "      cursor: pointer;\n",
              "      display: none;\n",
              "      fill: #1967D2;\n",
              "      height: 32px;\n",
              "      padding: 0 0 0 0;\n",
              "      width: 32px;\n",
              "    }\n",
              "\n",
              "    .colab-df-convert:hover {\n",
              "      background-color: #E2EBFA;\n",
              "      box-shadow: 0px 1px 2px rgba(60, 64, 67, 0.3), 0px 1px 3px 1px rgba(60, 64, 67, 0.15);\n",
              "      fill: #174EA6;\n",
              "    }\n",
              "\n",
              "    [theme=dark] .colab-df-convert {\n",
              "      background-color: #3B4455;\n",
              "      fill: #D2E3FC;\n",
              "    }\n",
              "\n",
              "    [theme=dark] .colab-df-convert:hover {\n",
              "      background-color: #434B5C;\n",
              "      box-shadow: 0px 1px 3px 1px rgba(0, 0, 0, 0.15);\n",
              "      filter: drop-shadow(0px 1px 2px rgba(0, 0, 0, 0.3));\n",
              "      fill: #FFFFFF;\n",
              "    }\n",
              "  </style>\n",
              "\n",
              "      <script>\n",
              "        const buttonEl =\n",
              "          document.querySelector('#df-e5a6c659-0a99-490b-8060-fdb0211a2635 button.colab-df-convert');\n",
              "        buttonEl.style.display =\n",
              "          google.colab.kernel.accessAllowed ? 'block' : 'none';\n",
              "\n",
              "        async function convertToInteractive(key) {\n",
              "          const element = document.querySelector('#df-e5a6c659-0a99-490b-8060-fdb0211a2635');\n",
              "          const dataTable =\n",
              "            await google.colab.kernel.invokeFunction('convertToInteractive',\n",
              "                                                     [key], {});\n",
              "          if (!dataTable) return;\n",
              "\n",
              "          const docLinkHtml = 'Like what you see? Visit the ' +\n",
              "            '<a target=\"_blank\" href=https://colab.research.google.com/notebooks/data_table.ipynb>data table notebook</a>'\n",
              "            + ' to learn more about interactive tables.';\n",
              "          element.innerHTML = '';\n",
              "          dataTable['output_type'] = 'display_data';\n",
              "          await google.colab.output.renderOutput(dataTable, element);\n",
              "          const docLink = document.createElement('div');\n",
              "          docLink.innerHTML = docLinkHtml;\n",
              "          element.appendChild(docLink);\n",
              "        }\n",
              "      </script>\n",
              "    </div>\n",
              "  </div>\n",
              "  "
            ]
          },
          "metadata": {},
          "execution_count": 16
        }
      ]
    },
    {
      "cell_type": "code",
      "source": [
        "try:\n",
        "    items.drop('상품명',axis=1,inplace=True)\n",
        "except:\n",
        "    print('이미 제거했어용')\n",
        "\n",
        "items"
      ],
      "metadata": {
        "colab": {
          "base_uri": "https://localhost:8080/",
          "height": 424
        },
        "id": "mI9YEzRcHtOT",
        "outputId": "e4c3bf3f-a65d-4b8a-d4c6-13721f53afac"
      },
      "execution_count": 17,
      "outputs": [
        {
          "output_type": "execute_result",
          "data": {
            "text/plain": [
              "        상품ID  상품분류ID\n",
              "0          0      40\n",
              "1          1      76\n",
              "2          2      40\n",
              "3          3      40\n",
              "4          4      40\n",
              "...      ...     ...\n",
              "22165  22165      31\n",
              "22166  22166      54\n",
              "22167  22167      49\n",
              "22168  22168      62\n",
              "22169  22169      69\n",
              "\n",
              "[22170 rows x 2 columns]"
            ],
            "text/html": [
              "\n",
              "  <div id=\"df-c4517a71-ce69-497e-8aec-b6bf507b6ac0\">\n",
              "    <div class=\"colab-df-container\">\n",
              "      <div>\n",
              "<style scoped>\n",
              "    .dataframe tbody tr th:only-of-type {\n",
              "        vertical-align: middle;\n",
              "    }\n",
              "\n",
              "    .dataframe tbody tr th {\n",
              "        vertical-align: top;\n",
              "    }\n",
              "\n",
              "    .dataframe thead th {\n",
              "        text-align: right;\n",
              "    }\n",
              "</style>\n",
              "<table border=\"1\" class=\"dataframe\">\n",
              "  <thead>\n",
              "    <tr style=\"text-align: right;\">\n",
              "      <th></th>\n",
              "      <th>상품ID</th>\n",
              "      <th>상품분류ID</th>\n",
              "    </tr>\n",
              "  </thead>\n",
              "  <tbody>\n",
              "    <tr>\n",
              "      <th>0</th>\n",
              "      <td>0</td>\n",
              "      <td>40</td>\n",
              "    </tr>\n",
              "    <tr>\n",
              "      <th>1</th>\n",
              "      <td>1</td>\n",
              "      <td>76</td>\n",
              "    </tr>\n",
              "    <tr>\n",
              "      <th>2</th>\n",
              "      <td>2</td>\n",
              "      <td>40</td>\n",
              "    </tr>\n",
              "    <tr>\n",
              "      <th>3</th>\n",
              "      <td>3</td>\n",
              "      <td>40</td>\n",
              "    </tr>\n",
              "    <tr>\n",
              "      <th>4</th>\n",
              "      <td>4</td>\n",
              "      <td>40</td>\n",
              "    </tr>\n",
              "    <tr>\n",
              "      <th>...</th>\n",
              "      <td>...</td>\n",
              "      <td>...</td>\n",
              "    </tr>\n",
              "    <tr>\n",
              "      <th>22165</th>\n",
              "      <td>22165</td>\n",
              "      <td>31</td>\n",
              "    </tr>\n",
              "    <tr>\n",
              "      <th>22166</th>\n",
              "      <td>22166</td>\n",
              "      <td>54</td>\n",
              "    </tr>\n",
              "    <tr>\n",
              "      <th>22167</th>\n",
              "      <td>22167</td>\n",
              "      <td>49</td>\n",
              "    </tr>\n",
              "    <tr>\n",
              "      <th>22168</th>\n",
              "      <td>22168</td>\n",
              "      <td>62</td>\n",
              "    </tr>\n",
              "    <tr>\n",
              "      <th>22169</th>\n",
              "      <td>22169</td>\n",
              "      <td>69</td>\n",
              "    </tr>\n",
              "  </tbody>\n",
              "</table>\n",
              "<p>22170 rows × 2 columns</p>\n",
              "</div>\n",
              "      <button class=\"colab-df-convert\" onclick=\"convertToInteractive('df-c4517a71-ce69-497e-8aec-b6bf507b6ac0')\"\n",
              "              title=\"Convert this dataframe to an interactive table.\"\n",
              "              style=\"display:none;\">\n",
              "        \n",
              "  <svg xmlns=\"http://www.w3.org/2000/svg\" height=\"24px\"viewBox=\"0 0 24 24\"\n",
              "       width=\"24px\">\n",
              "    <path d=\"M0 0h24v24H0V0z\" fill=\"none\"/>\n",
              "    <path d=\"M18.56 5.44l.94 2.06.94-2.06 2.06-.94-2.06-.94-.94-2.06-.94 2.06-2.06.94zm-11 1L8.5 8.5l.94-2.06 2.06-.94-2.06-.94L8.5 2.5l-.94 2.06-2.06.94zm10 10l.94 2.06.94-2.06 2.06-.94-2.06-.94-.94-2.06-.94 2.06-2.06.94z\"/><path d=\"M17.41 7.96l-1.37-1.37c-.4-.4-.92-.59-1.43-.59-.52 0-1.04.2-1.43.59L10.3 9.45l-7.72 7.72c-.78.78-.78 2.05 0 2.83L4 21.41c.39.39.9.59 1.41.59.51 0 1.02-.2 1.41-.59l7.78-7.78 2.81-2.81c.8-.78.8-2.07 0-2.86zM5.41 20L4 18.59l7.72-7.72 1.47 1.35L5.41 20z\"/>\n",
              "  </svg>\n",
              "      </button>\n",
              "      \n",
              "  <style>\n",
              "    .colab-df-container {\n",
              "      display:flex;\n",
              "      flex-wrap:wrap;\n",
              "      gap: 12px;\n",
              "    }\n",
              "\n",
              "    .colab-df-convert {\n",
              "      background-color: #E8F0FE;\n",
              "      border: none;\n",
              "      border-radius: 50%;\n",
              "      cursor: pointer;\n",
              "      display: none;\n",
              "      fill: #1967D2;\n",
              "      height: 32px;\n",
              "      padding: 0 0 0 0;\n",
              "      width: 32px;\n",
              "    }\n",
              "\n",
              "    .colab-df-convert:hover {\n",
              "      background-color: #E2EBFA;\n",
              "      box-shadow: 0px 1px 2px rgba(60, 64, 67, 0.3), 0px 1px 3px 1px rgba(60, 64, 67, 0.15);\n",
              "      fill: #174EA6;\n",
              "    }\n",
              "\n",
              "    [theme=dark] .colab-df-convert {\n",
              "      background-color: #3B4455;\n",
              "      fill: #D2E3FC;\n",
              "    }\n",
              "\n",
              "    [theme=dark] .colab-df-convert:hover {\n",
              "      background-color: #434B5C;\n",
              "      box-shadow: 0px 1px 3px 1px rgba(0, 0, 0, 0.15);\n",
              "      filter: drop-shadow(0px 1px 2px rgba(0, 0, 0, 0.3));\n",
              "      fill: #FFFFFF;\n",
              "    }\n",
              "  </style>\n",
              "\n",
              "      <script>\n",
              "        const buttonEl =\n",
              "          document.querySelector('#df-c4517a71-ce69-497e-8aec-b6bf507b6ac0 button.colab-df-convert');\n",
              "        buttonEl.style.display =\n",
              "          google.colab.kernel.accessAllowed ? 'block' : 'none';\n",
              "\n",
              "        async function convertToInteractive(key) {\n",
              "          const element = document.querySelector('#df-c4517a71-ce69-497e-8aec-b6bf507b6ac0');\n",
              "          const dataTable =\n",
              "            await google.colab.kernel.invokeFunction('convertToInteractive',\n",
              "                                                     [key], {});\n",
              "          if (!dataTable) return;\n",
              "\n",
              "          const docLinkHtml = 'Like what you see? Visit the ' +\n",
              "            '<a target=\"_blank\" href=https://colab.research.google.com/notebooks/data_table.ipynb>data table notebook</a>'\n",
              "            + ' to learn more about interactive tables.';\n",
              "          element.innerHTML = '';\n",
              "          dataTable['output_type'] = 'display_data';\n",
              "          await google.colab.output.renderOutput(dataTable, element);\n",
              "          const docLink = document.createElement('div');\n",
              "          docLink.innerHTML = docLinkHtml;\n",
              "          element.appendChild(docLink);\n",
              "        }\n",
              "      </script>\n",
              "    </div>\n",
              "  </div>\n",
              "  "
            ]
          },
          "metadata": {},
          "execution_count": 17
        }
      ]
    },
    {
      "cell_type": "code",
      "source": [
        "# 상품이 맨 처음 팔린 월을 피처로 만들자\n",
        "items['첫 판매월'] = sales_train.groupby('상품ID')['월ID'].min()\n",
        "items.head()"
      ],
      "metadata": {
        "colab": {
          "base_uri": "https://localhost:8080/",
          "height": 206
        },
        "id": "osEmJHHbJlYL",
        "outputId": "01a3edc9-dc69-4ef0-f28b-d173a4195177"
      },
      "execution_count": 18,
      "outputs": [
        {
          "output_type": "execute_result",
          "data": {
            "text/plain": [
              "   상품ID  상품분류ID  첫 판매월\n",
              "0     0      40   20.0\n",
              "1     1      76   15.0\n",
              "2     2      40   19.0\n",
              "3     3      40   18.0\n",
              "4     4      40   20.0"
            ],
            "text/html": [
              "\n",
              "  <div id=\"df-2e07b226-4ed3-4ca6-ab72-fffe0024a46b\">\n",
              "    <div class=\"colab-df-container\">\n",
              "      <div>\n",
              "<style scoped>\n",
              "    .dataframe tbody tr th:only-of-type {\n",
              "        vertical-align: middle;\n",
              "    }\n",
              "\n",
              "    .dataframe tbody tr th {\n",
              "        vertical-align: top;\n",
              "    }\n",
              "\n",
              "    .dataframe thead th {\n",
              "        text-align: right;\n",
              "    }\n",
              "</style>\n",
              "<table border=\"1\" class=\"dataframe\">\n",
              "  <thead>\n",
              "    <tr style=\"text-align: right;\">\n",
              "      <th></th>\n",
              "      <th>상품ID</th>\n",
              "      <th>상품분류ID</th>\n",
              "      <th>첫 판매월</th>\n",
              "    </tr>\n",
              "  </thead>\n",
              "  <tbody>\n",
              "    <tr>\n",
              "      <th>0</th>\n",
              "      <td>0</td>\n",
              "      <td>40</td>\n",
              "      <td>20.0</td>\n",
              "    </tr>\n",
              "    <tr>\n",
              "      <th>1</th>\n",
              "      <td>1</td>\n",
              "      <td>76</td>\n",
              "      <td>15.0</td>\n",
              "    </tr>\n",
              "    <tr>\n",
              "      <th>2</th>\n",
              "      <td>2</td>\n",
              "      <td>40</td>\n",
              "      <td>19.0</td>\n",
              "    </tr>\n",
              "    <tr>\n",
              "      <th>3</th>\n",
              "      <td>3</td>\n",
              "      <td>40</td>\n",
              "      <td>18.0</td>\n",
              "    </tr>\n",
              "    <tr>\n",
              "      <th>4</th>\n",
              "      <td>4</td>\n",
              "      <td>40</td>\n",
              "      <td>20.0</td>\n",
              "    </tr>\n",
              "  </tbody>\n",
              "</table>\n",
              "</div>\n",
              "      <button class=\"colab-df-convert\" onclick=\"convertToInteractive('df-2e07b226-4ed3-4ca6-ab72-fffe0024a46b')\"\n",
              "              title=\"Convert this dataframe to an interactive table.\"\n",
              "              style=\"display:none;\">\n",
              "        \n",
              "  <svg xmlns=\"http://www.w3.org/2000/svg\" height=\"24px\"viewBox=\"0 0 24 24\"\n",
              "       width=\"24px\">\n",
              "    <path d=\"M0 0h24v24H0V0z\" fill=\"none\"/>\n",
              "    <path d=\"M18.56 5.44l.94 2.06.94-2.06 2.06-.94-2.06-.94-.94-2.06-.94 2.06-2.06.94zm-11 1L8.5 8.5l.94-2.06 2.06-.94-2.06-.94L8.5 2.5l-.94 2.06-2.06.94zm10 10l.94 2.06.94-2.06 2.06-.94-2.06-.94-.94-2.06-.94 2.06-2.06.94z\"/><path d=\"M17.41 7.96l-1.37-1.37c-.4-.4-.92-.59-1.43-.59-.52 0-1.04.2-1.43.59L10.3 9.45l-7.72 7.72c-.78.78-.78 2.05 0 2.83L4 21.41c.39.39.9.59 1.41.59.51 0 1.02-.2 1.41-.59l7.78-7.78 2.81-2.81c.8-.78.8-2.07 0-2.86zM5.41 20L4 18.59l7.72-7.72 1.47 1.35L5.41 20z\"/>\n",
              "  </svg>\n",
              "      </button>\n",
              "      \n",
              "  <style>\n",
              "    .colab-df-container {\n",
              "      display:flex;\n",
              "      flex-wrap:wrap;\n",
              "      gap: 12px;\n",
              "    }\n",
              "\n",
              "    .colab-df-convert {\n",
              "      background-color: #E8F0FE;\n",
              "      border: none;\n",
              "      border-radius: 50%;\n",
              "      cursor: pointer;\n",
              "      display: none;\n",
              "      fill: #1967D2;\n",
              "      height: 32px;\n",
              "      padding: 0 0 0 0;\n",
              "      width: 32px;\n",
              "    }\n",
              "\n",
              "    .colab-df-convert:hover {\n",
              "      background-color: #E2EBFA;\n",
              "      box-shadow: 0px 1px 2px rgba(60, 64, 67, 0.3), 0px 1px 3px 1px rgba(60, 64, 67, 0.15);\n",
              "      fill: #174EA6;\n",
              "    }\n",
              "\n",
              "    [theme=dark] .colab-df-convert {\n",
              "      background-color: #3B4455;\n",
              "      fill: #D2E3FC;\n",
              "    }\n",
              "\n",
              "    [theme=dark] .colab-df-convert:hover {\n",
              "      background-color: #434B5C;\n",
              "      box-shadow: 0px 1px 3px 1px rgba(0, 0, 0, 0.15);\n",
              "      filter: drop-shadow(0px 1px 2px rgba(0, 0, 0, 0.3));\n",
              "      fill: #FFFFFF;\n",
              "    }\n",
              "  </style>\n",
              "\n",
              "      <script>\n",
              "        const buttonEl =\n",
              "          document.querySelector('#df-2e07b226-4ed3-4ca6-ab72-fffe0024a46b button.colab-df-convert');\n",
              "        buttonEl.style.display =\n",
              "          google.colab.kernel.accessAllowed ? 'block' : 'none';\n",
              "\n",
              "        async function convertToInteractive(key) {\n",
              "          const element = document.querySelector('#df-2e07b226-4ed3-4ca6-ab72-fffe0024a46b');\n",
              "          const dataTable =\n",
              "            await google.colab.kernel.invokeFunction('convertToInteractive',\n",
              "                                                     [key], {});\n",
              "          if (!dataTable) return;\n",
              "\n",
              "          const docLinkHtml = 'Like what you see? Visit the ' +\n",
              "            '<a target=\"_blank\" href=https://colab.research.google.com/notebooks/data_table.ipynb>data table notebook</a>'\n",
              "            + ' to learn more about interactive tables.';\n",
              "          element.innerHTML = '';\n",
              "          dataTable['output_type'] = 'display_data';\n",
              "          await google.colab.output.renderOutput(dataTable, element);\n",
              "          const docLink = document.createElement('div');\n",
              "          docLink.innerHTML = docLinkHtml;\n",
              "          element.appendChild(docLink);\n",
              "        }\n",
              "      </script>\n",
              "    </div>\n",
              "  </div>\n",
              "  "
            ]
          },
          "metadata": {},
          "execution_count": 18
        }
      ]
    },
    {
      "cell_type": "code",
      "source": [
        "items.isnull().sum()"
      ],
      "metadata": {
        "colab": {
          "base_uri": "https://localhost:8080/"
        },
        "id": "EDyN281GJ-mS",
        "outputId": "d9174130-49a3-45ba-b810-db9d2d441b20"
      },
      "execution_count": 19,
      "outputs": [
        {
          "output_type": "execute_result",
          "data": {
            "text/plain": [
              "상품ID        0\n",
              "상품분류ID      0\n",
              "첫 판매월     363\n",
              "dtype: int64"
            ]
          },
          "metadata": {},
          "execution_count": 19
        }
      ]
    },
    {
      "cell_type": "markdown",
      "source": [
        "첫 판매월에 결측값이 있다는것은 판매한적이 없다는 뜻이다.<br>\n",
        "훈련데이터에서 팔리지 않았다는 것은 훈련데이터의 다음달인 테스트 데이터인 월id==34에 팔렸음을 알 수 있습니다. 결측값을 34로 대체하겠습니다."
      ],
      "metadata": {
        "id": "HZsyn3PJKEeZ"
      }
    },
    {
      "cell_type": "code",
      "source": [
        "items = items.fillna(34)\n",
        "items.isnull().sum()"
      ],
      "metadata": {
        "colab": {
          "base_uri": "https://localhost:8080/"
        },
        "id": "QRY1LT6kKoNA",
        "outputId": "0a5d5340-3c44-4505-d220-82ab4c68f59d"
      },
      "execution_count": 20,
      "outputs": [
        {
          "output_type": "execute_result",
          "data": {
            "text/plain": [
              "상품ID      0\n",
              "상품분류ID    0\n",
              "첫 판매월     0\n",
              "dtype: int64"
            ]
          },
          "metadata": {},
          "execution_count": 20
        }
      ]
    },
    {
      "cell_type": "code",
      "source": [
        "# 상품분류명의 첫 단어를 대분류로 추출\n",
        "item_categories['대분류'] = item_categories['상품분류명'].apply(lambda x: x.split()[0])  "
      ],
      "metadata": {
        "id": "8hgHEOLtKtLT"
      },
      "execution_count": 21,
      "outputs": []
    },
    {
      "cell_type": "code",
      "source": [
        "item_categories['대분류'].value_counts()"
      ],
      "metadata": {
        "colab": {
          "base_uri": "https://localhost:8080/"
        },
        "id": "DNxhznumMEOh",
        "outputId": "fce102fa-9bcf-447c-b669-411dd4d3f4f6"
      },
      "execution_count": 22,
      "outputs": [
        {
          "output_type": "execute_result",
          "data": {
            "text/plain": [
              "Игры          14\n",
              "Книги         13\n",
              "Подарки       12\n",
              "Игровые        8\n",
              "Аксессуары     7\n",
              "Музыка         6\n",
              "Программы      6\n",
              "Карты          5\n",
              "Кино           5\n",
              "Служебные      2\n",
              "Чистые         2\n",
              "PC             1\n",
              "Билеты         1\n",
              "Доставка       1\n",
              "Элементы       1\n",
              "Name: 대분류, dtype: int64"
            ]
          },
          "metadata": {},
          "execution_count": 22
        }
      ]
    },
    {
      "cell_type": "code",
      "source": [
        "# 대분류의 고윳값 개수가 5개 미만이면 'etc'로 바꾸기\n",
        "items_cat = item_categories['대분류'].value_counts()\n",
        "items_cat = items_cat[items_cat < 5].index\n",
        "item_categories['대분류'] = item_categories['대분류'].apply(lambda x : 'etc' if x in items_cat else x)\n",
        "item_categories['대분류'].head()"
      ],
      "metadata": {
        "colab": {
          "base_uri": "https://localhost:8080/"
        },
        "id": "-Eikqk5zMFsY",
        "outputId": "316a4f11-3f22-4938-e4a0-77ddb6456286"
      },
      "execution_count": 23,
      "outputs": [
        {
          "output_type": "execute_result",
          "data": {
            "text/plain": [
              "0           etc\n",
              "1    Аксессуары\n",
              "2    Аксессуары\n",
              "3    Аксессуары\n",
              "4    Аксессуары\n",
              "Name: 대분류, dtype: object"
            ]
          },
          "metadata": {},
          "execution_count": 23
        }
      ]
    },
    {
      "cell_type": "code",
      "source": [
        "item_categories['대분류']"
      ],
      "metadata": {
        "colab": {
          "base_uri": "https://localhost:8080/"
        },
        "id": "GCadGUwRMr57",
        "outputId": "08e747b3-7dc5-405b-96ee-6d94932bad90"
      },
      "execution_count": 24,
      "outputs": [
        {
          "output_type": "execute_result",
          "data": {
            "text/plain": [
              "0            etc\n",
              "1     Аксессуары\n",
              "2     Аксессуары\n",
              "3     Аксессуары\n",
              "4     Аксессуары\n",
              "         ...    \n",
              "79           etc\n",
              "80           etc\n",
              "81           etc\n",
              "82           etc\n",
              "83           etc\n",
              "Name: 대분류, Length: 84, dtype: object"
            ]
          },
          "metadata": {},
          "execution_count": 24
        }
      ]
    },
    {
      "cell_type": "code",
      "source": [
        "# 레이블 인코더 생성\n",
        "label_encoder = LabelEncoder()\n",
        "\n",
        "# 대분류 피처 레이블 인코딩\n",
        "item_categories['대분류'] = label_encoder.fit_transform(item_categories['대분류'])\n",
        "\n",
        "# 상품분류명 피처 제거\n",
        "item_categories = item_categories.drop('상품분류명', axis=1)"
      ],
      "metadata": {
        "id": "liEo6wShNdoj"
      },
      "execution_count": 25,
      "outputs": []
    },
    {
      "cell_type": "code",
      "source": [
        "item_categories.head()"
      ],
      "metadata": {
        "colab": {
          "base_uri": "https://localhost:8080/",
          "height": 206
        },
        "id": "MyLfDvqQNl7-",
        "outputId": "04d14333-827f-40b5-9294-4670cbcee772"
      },
      "execution_count": 26,
      "outputs": [
        {
          "output_type": "execute_result",
          "data": {
            "text/plain": [
              "   상품분류ID  대분류\n",
              "0       0    0\n",
              "1       1    1\n",
              "2       2    1\n",
              "3       3    1\n",
              "4       4    1"
            ],
            "text/html": [
              "\n",
              "  <div id=\"df-b81bb19f-83b2-43c5-9bba-55408e4ff590\">\n",
              "    <div class=\"colab-df-container\">\n",
              "      <div>\n",
              "<style scoped>\n",
              "    .dataframe tbody tr th:only-of-type {\n",
              "        vertical-align: middle;\n",
              "    }\n",
              "\n",
              "    .dataframe tbody tr th {\n",
              "        vertical-align: top;\n",
              "    }\n",
              "\n",
              "    .dataframe thead th {\n",
              "        text-align: right;\n",
              "    }\n",
              "</style>\n",
              "<table border=\"1\" class=\"dataframe\">\n",
              "  <thead>\n",
              "    <tr style=\"text-align: right;\">\n",
              "      <th></th>\n",
              "      <th>상품분류ID</th>\n",
              "      <th>대분류</th>\n",
              "    </tr>\n",
              "  </thead>\n",
              "  <tbody>\n",
              "    <tr>\n",
              "      <th>0</th>\n",
              "      <td>0</td>\n",
              "      <td>0</td>\n",
              "    </tr>\n",
              "    <tr>\n",
              "      <th>1</th>\n",
              "      <td>1</td>\n",
              "      <td>1</td>\n",
              "    </tr>\n",
              "    <tr>\n",
              "      <th>2</th>\n",
              "      <td>2</td>\n",
              "      <td>1</td>\n",
              "    </tr>\n",
              "    <tr>\n",
              "      <th>3</th>\n",
              "      <td>3</td>\n",
              "      <td>1</td>\n",
              "    </tr>\n",
              "    <tr>\n",
              "      <th>4</th>\n",
              "      <td>4</td>\n",
              "      <td>1</td>\n",
              "    </tr>\n",
              "  </tbody>\n",
              "</table>\n",
              "</div>\n",
              "      <button class=\"colab-df-convert\" onclick=\"convertToInteractive('df-b81bb19f-83b2-43c5-9bba-55408e4ff590')\"\n",
              "              title=\"Convert this dataframe to an interactive table.\"\n",
              "              style=\"display:none;\">\n",
              "        \n",
              "  <svg xmlns=\"http://www.w3.org/2000/svg\" height=\"24px\"viewBox=\"0 0 24 24\"\n",
              "       width=\"24px\">\n",
              "    <path d=\"M0 0h24v24H0V0z\" fill=\"none\"/>\n",
              "    <path d=\"M18.56 5.44l.94 2.06.94-2.06 2.06-.94-2.06-.94-.94-2.06-.94 2.06-2.06.94zm-11 1L8.5 8.5l.94-2.06 2.06-.94-2.06-.94L8.5 2.5l-.94 2.06-2.06.94zm10 10l.94 2.06.94-2.06 2.06-.94-2.06-.94-.94-2.06-.94 2.06-2.06.94z\"/><path d=\"M17.41 7.96l-1.37-1.37c-.4-.4-.92-.59-1.43-.59-.52 0-1.04.2-1.43.59L10.3 9.45l-7.72 7.72c-.78.78-.78 2.05 0 2.83L4 21.41c.39.39.9.59 1.41.59.51 0 1.02-.2 1.41-.59l7.78-7.78 2.81-2.81c.8-.78.8-2.07 0-2.86zM5.41 20L4 18.59l7.72-7.72 1.47 1.35L5.41 20z\"/>\n",
              "  </svg>\n",
              "      </button>\n",
              "      \n",
              "  <style>\n",
              "    .colab-df-container {\n",
              "      display:flex;\n",
              "      flex-wrap:wrap;\n",
              "      gap: 12px;\n",
              "    }\n",
              "\n",
              "    .colab-df-convert {\n",
              "      background-color: #E8F0FE;\n",
              "      border: none;\n",
              "      border-radius: 50%;\n",
              "      cursor: pointer;\n",
              "      display: none;\n",
              "      fill: #1967D2;\n",
              "      height: 32px;\n",
              "      padding: 0 0 0 0;\n",
              "      width: 32px;\n",
              "    }\n",
              "\n",
              "    .colab-df-convert:hover {\n",
              "      background-color: #E2EBFA;\n",
              "      box-shadow: 0px 1px 2px rgba(60, 64, 67, 0.3), 0px 1px 3px 1px rgba(60, 64, 67, 0.15);\n",
              "      fill: #174EA6;\n",
              "    }\n",
              "\n",
              "    [theme=dark] .colab-df-convert {\n",
              "      background-color: #3B4455;\n",
              "      fill: #D2E3FC;\n",
              "    }\n",
              "\n",
              "    [theme=dark] .colab-df-convert:hover {\n",
              "      background-color: #434B5C;\n",
              "      box-shadow: 0px 1px 3px 1px rgba(0, 0, 0, 0.15);\n",
              "      filter: drop-shadow(0px 1px 2px rgba(0, 0, 0, 0.3));\n",
              "      fill: #FFFFFF;\n",
              "    }\n",
              "  </style>\n",
              "\n",
              "      <script>\n",
              "        const buttonEl =\n",
              "          document.querySelector('#df-b81bb19f-83b2-43c5-9bba-55408e4ff590 button.colab-df-convert');\n",
              "        buttonEl.style.display =\n",
              "          google.colab.kernel.accessAllowed ? 'block' : 'none';\n",
              "\n",
              "        async function convertToInteractive(key) {\n",
              "          const element = document.querySelector('#df-b81bb19f-83b2-43c5-9bba-55408e4ff590');\n",
              "          const dataTable =\n",
              "            await google.colab.kernel.invokeFunction('convertToInteractive',\n",
              "                                                     [key], {});\n",
              "          if (!dataTable) return;\n",
              "\n",
              "          const docLinkHtml = 'Like what you see? Visit the ' +\n",
              "            '<a target=\"_blank\" href=https://colab.research.google.com/notebooks/data_table.ipynb>data table notebook</a>'\n",
              "            + ' to learn more about interactive tables.';\n",
              "          element.innerHTML = '';\n",
              "          dataTable['output_type'] = 'display_data';\n",
              "          await google.colab.output.renderOutput(dataTable, element);\n",
              "          const docLink = document.createElement('div');\n",
              "          docLink.innerHTML = docLinkHtml;\n",
              "          element.appendChild(docLink);\n",
              "        }\n",
              "      </script>\n",
              "    </div>\n",
              "  </div>\n",
              "  "
            ]
          },
          "metadata": {},
          "execution_count": 26
        }
      ]
    },
    {
      "cell_type": "markdown",
      "source": [
        "#데이터 조합 및 파생 피처 생성"
      ],
      "metadata": {
        "id": "g-iLbmjNNsDK"
      }
    },
    {
      "cell_type": "code",
      "source": [
        "from itertools import product\n",
        "\n",
        "train = []\n",
        "# 월ID, 상점ID, 상품ID 조합 생성\n",
        "for i in sales_train['월ID'].unique():\n",
        "    all_shop = sales_train.loc[sales_train['월ID']==i, '상점ID'].unique()\n",
        "    all_item = sales_train.loc[sales_train['월ID']==i, '상품ID'].unique()\n",
        "    train.append(np.array(list(product([i], all_shop, all_item))))\n",
        "\n",
        "idx_features = ['월ID', '상점ID', '상품ID'] # 기준 피처\n",
        "train = pd.DataFrame(np.vstack(train), columns=idx_features)"
      ],
      "metadata": {
        "id": "V0VnOZDdN-pr"
      },
      "execution_count": 27,
      "outputs": []
    },
    {
      "cell_type": "code",
      "source": [
        "group = sales_train.groupby(idx_features).agg({'판매량': 'sum',\n",
        "                                               '판매가': 'mean'})\n",
        "group = group.reset_index()\n",
        "group = group.rename(columns={'판매량': '월간 판매량', '판매가': '평균 판매가'})\n",
        "\n",
        "train = train.merge(group, on=idx_features, how='left')\n",
        "\n",
        "train.head()"
      ],
      "metadata": {
        "colab": {
          "base_uri": "https://localhost:8080/",
          "height": 206
        },
        "id": "tIEL_U1dOBAJ",
        "outputId": "ad92ef62-79ec-4654-b27f-d99deb661035"
      },
      "execution_count": 28,
      "outputs": [
        {
          "output_type": "execute_result",
          "data": {
            "text/plain": [
              "   월ID  상점ID   상품ID  월간 판매량  평균 판매가\n",
              "0    0    59  22154     1.0   999.0\n",
              "1    0    59   2552     NaN     NaN\n",
              "2    0    59   2554     NaN     NaN\n",
              "3    0    59   2555     NaN     NaN\n",
              "4    0    59   2564     NaN     NaN"
            ],
            "text/html": [
              "\n",
              "  <div id=\"df-6a3900d7-9466-4471-8339-e2c0c22ded96\">\n",
              "    <div class=\"colab-df-container\">\n",
              "      <div>\n",
              "<style scoped>\n",
              "    .dataframe tbody tr th:only-of-type {\n",
              "        vertical-align: middle;\n",
              "    }\n",
              "\n",
              "    .dataframe tbody tr th {\n",
              "        vertical-align: top;\n",
              "    }\n",
              "\n",
              "    .dataframe thead th {\n",
              "        text-align: right;\n",
              "    }\n",
              "</style>\n",
              "<table border=\"1\" class=\"dataframe\">\n",
              "  <thead>\n",
              "    <tr style=\"text-align: right;\">\n",
              "      <th></th>\n",
              "      <th>월ID</th>\n",
              "      <th>상점ID</th>\n",
              "      <th>상품ID</th>\n",
              "      <th>월간 판매량</th>\n",
              "      <th>평균 판매가</th>\n",
              "    </tr>\n",
              "  </thead>\n",
              "  <tbody>\n",
              "    <tr>\n",
              "      <th>0</th>\n",
              "      <td>0</td>\n",
              "      <td>59</td>\n",
              "      <td>22154</td>\n",
              "      <td>1.0</td>\n",
              "      <td>999.0</td>\n",
              "    </tr>\n",
              "    <tr>\n",
              "      <th>1</th>\n",
              "      <td>0</td>\n",
              "      <td>59</td>\n",
              "      <td>2552</td>\n",
              "      <td>NaN</td>\n",
              "      <td>NaN</td>\n",
              "    </tr>\n",
              "    <tr>\n",
              "      <th>2</th>\n",
              "      <td>0</td>\n",
              "      <td>59</td>\n",
              "      <td>2554</td>\n",
              "      <td>NaN</td>\n",
              "      <td>NaN</td>\n",
              "    </tr>\n",
              "    <tr>\n",
              "      <th>3</th>\n",
              "      <td>0</td>\n",
              "      <td>59</td>\n",
              "      <td>2555</td>\n",
              "      <td>NaN</td>\n",
              "      <td>NaN</td>\n",
              "    </tr>\n",
              "    <tr>\n",
              "      <th>4</th>\n",
              "      <td>0</td>\n",
              "      <td>59</td>\n",
              "      <td>2564</td>\n",
              "      <td>NaN</td>\n",
              "      <td>NaN</td>\n",
              "    </tr>\n",
              "  </tbody>\n",
              "</table>\n",
              "</div>\n",
              "      <button class=\"colab-df-convert\" onclick=\"convertToInteractive('df-6a3900d7-9466-4471-8339-e2c0c22ded96')\"\n",
              "              title=\"Convert this dataframe to an interactive table.\"\n",
              "              style=\"display:none;\">\n",
              "        \n",
              "  <svg xmlns=\"http://www.w3.org/2000/svg\" height=\"24px\"viewBox=\"0 0 24 24\"\n",
              "       width=\"24px\">\n",
              "    <path d=\"M0 0h24v24H0V0z\" fill=\"none\"/>\n",
              "    <path d=\"M18.56 5.44l.94 2.06.94-2.06 2.06-.94-2.06-.94-.94-2.06-.94 2.06-2.06.94zm-11 1L8.5 8.5l.94-2.06 2.06-.94-2.06-.94L8.5 2.5l-.94 2.06-2.06.94zm10 10l.94 2.06.94-2.06 2.06-.94-2.06-.94-.94-2.06-.94 2.06-2.06.94z\"/><path d=\"M17.41 7.96l-1.37-1.37c-.4-.4-.92-.59-1.43-.59-.52 0-1.04.2-1.43.59L10.3 9.45l-7.72 7.72c-.78.78-.78 2.05 0 2.83L4 21.41c.39.39.9.59 1.41.59.51 0 1.02-.2 1.41-.59l7.78-7.78 2.81-2.81c.8-.78.8-2.07 0-2.86zM5.41 20L4 18.59l7.72-7.72 1.47 1.35L5.41 20z\"/>\n",
              "  </svg>\n",
              "      </button>\n",
              "      \n",
              "  <style>\n",
              "    .colab-df-container {\n",
              "      display:flex;\n",
              "      flex-wrap:wrap;\n",
              "      gap: 12px;\n",
              "    }\n",
              "\n",
              "    .colab-df-convert {\n",
              "      background-color: #E8F0FE;\n",
              "      border: none;\n",
              "      border-radius: 50%;\n",
              "      cursor: pointer;\n",
              "      display: none;\n",
              "      fill: #1967D2;\n",
              "      height: 32px;\n",
              "      padding: 0 0 0 0;\n",
              "      width: 32px;\n",
              "    }\n",
              "\n",
              "    .colab-df-convert:hover {\n",
              "      background-color: #E2EBFA;\n",
              "      box-shadow: 0px 1px 2px rgba(60, 64, 67, 0.3), 0px 1px 3px 1px rgba(60, 64, 67, 0.15);\n",
              "      fill: #174EA6;\n",
              "    }\n",
              "\n",
              "    [theme=dark] .colab-df-convert {\n",
              "      background-color: #3B4455;\n",
              "      fill: #D2E3FC;\n",
              "    }\n",
              "\n",
              "    [theme=dark] .colab-df-convert:hover {\n",
              "      background-color: #434B5C;\n",
              "      box-shadow: 0px 1px 3px 1px rgba(0, 0, 0, 0.15);\n",
              "      filter: drop-shadow(0px 1px 2px rgba(0, 0, 0, 0.3));\n",
              "      fill: #FFFFFF;\n",
              "    }\n",
              "  </style>\n",
              "\n",
              "      <script>\n",
              "        const buttonEl =\n",
              "          document.querySelector('#df-6a3900d7-9466-4471-8339-e2c0c22ded96 button.colab-df-convert');\n",
              "        buttonEl.style.display =\n",
              "          google.colab.kernel.accessAllowed ? 'block' : 'none';\n",
              "\n",
              "        async function convertToInteractive(key) {\n",
              "          const element = document.querySelector('#df-6a3900d7-9466-4471-8339-e2c0c22ded96');\n",
              "          const dataTable =\n",
              "            await google.colab.kernel.invokeFunction('convertToInteractive',\n",
              "                                                     [key], {});\n",
              "          if (!dataTable) return;\n",
              "\n",
              "          const docLinkHtml = 'Like what you see? Visit the ' +\n",
              "            '<a target=\"_blank\" href=https://colab.research.google.com/notebooks/data_table.ipynb>data table notebook</a>'\n",
              "            + ' to learn more about interactive tables.';\n",
              "          element.innerHTML = '';\n",
              "          dataTable['output_type'] = 'display_data';\n",
              "          await google.colab.output.renderOutput(dataTable, element);\n",
              "          const docLink = document.createElement('div');\n",
              "          docLink.innerHTML = docLinkHtml;\n",
              "          element.appendChild(docLink);\n",
              "        }\n",
              "      </script>\n",
              "    </div>\n",
              "  </div>\n",
              "  "
            ]
          },
          "metadata": {},
          "execution_count": 28
        }
      ]
    },
    {
      "cell_type": "code",
      "source": [
        "import gc\n",
        "del group\n",
        "gc.collect()"
      ],
      "metadata": {
        "colab": {
          "base_uri": "https://localhost:8080/"
        },
        "id": "4NrxrXBqOzvd",
        "outputId": "d2971457-c228-448e-b4eb-dfa394e95dda"
      },
      "execution_count": 29,
      "outputs": [
        {
          "output_type": "execute_result",
          "data": {
            "text/plain": [
              "92"
            ]
          },
          "metadata": {},
          "execution_count": 29
        }
      ]
    },
    {
      "cell_type": "code",
      "source": [
        "# 상품 판매건수 피처 추가\n",
        "group = sales_train.groupby(idx_features).agg({'판매량': 'count'})\n",
        "group = group.reset_index()\n",
        "group = group.rename(columns={'판매량': '판매건수'})\n",
        "\n",
        "train = train.merge(group, on=idx_features, how='left')\n",
        "\n",
        "# 가비지 컬렉션\n",
        "del group, sales_train\n",
        "gc.collect()\n",
        "\n",
        "train.head()"
      ],
      "metadata": {
        "colab": {
          "base_uri": "https://localhost:8080/",
          "height": 206
        },
        "id": "MEXv3e-4TPZA",
        "outputId": "b53d56ce-b0ea-4268-eede-2e0d39d0cbe5"
      },
      "execution_count": 30,
      "outputs": [
        {
          "output_type": "execute_result",
          "data": {
            "text/plain": [
              "   월ID  상점ID   상품ID  월간 판매량  평균 판매가  판매건수\n",
              "0    0    59  22154     1.0   999.0   1.0\n",
              "1    0    59   2552     NaN     NaN   NaN\n",
              "2    0    59   2554     NaN     NaN   NaN\n",
              "3    0    59   2555     NaN     NaN   NaN\n",
              "4    0    59   2564     NaN     NaN   NaN"
            ],
            "text/html": [
              "\n",
              "  <div id=\"df-d8fa0984-814c-4486-8512-bbd7ca0c1fc2\">\n",
              "    <div class=\"colab-df-container\">\n",
              "      <div>\n",
              "<style scoped>\n",
              "    .dataframe tbody tr th:only-of-type {\n",
              "        vertical-align: middle;\n",
              "    }\n",
              "\n",
              "    .dataframe tbody tr th {\n",
              "        vertical-align: top;\n",
              "    }\n",
              "\n",
              "    .dataframe thead th {\n",
              "        text-align: right;\n",
              "    }\n",
              "</style>\n",
              "<table border=\"1\" class=\"dataframe\">\n",
              "  <thead>\n",
              "    <tr style=\"text-align: right;\">\n",
              "      <th></th>\n",
              "      <th>월ID</th>\n",
              "      <th>상점ID</th>\n",
              "      <th>상품ID</th>\n",
              "      <th>월간 판매량</th>\n",
              "      <th>평균 판매가</th>\n",
              "      <th>판매건수</th>\n",
              "    </tr>\n",
              "  </thead>\n",
              "  <tbody>\n",
              "    <tr>\n",
              "      <th>0</th>\n",
              "      <td>0</td>\n",
              "      <td>59</td>\n",
              "      <td>22154</td>\n",
              "      <td>1.0</td>\n",
              "      <td>999.0</td>\n",
              "      <td>1.0</td>\n",
              "    </tr>\n",
              "    <tr>\n",
              "      <th>1</th>\n",
              "      <td>0</td>\n",
              "      <td>59</td>\n",
              "      <td>2552</td>\n",
              "      <td>NaN</td>\n",
              "      <td>NaN</td>\n",
              "      <td>NaN</td>\n",
              "    </tr>\n",
              "    <tr>\n",
              "      <th>2</th>\n",
              "      <td>0</td>\n",
              "      <td>59</td>\n",
              "      <td>2554</td>\n",
              "      <td>NaN</td>\n",
              "      <td>NaN</td>\n",
              "      <td>NaN</td>\n",
              "    </tr>\n",
              "    <tr>\n",
              "      <th>3</th>\n",
              "      <td>0</td>\n",
              "      <td>59</td>\n",
              "      <td>2555</td>\n",
              "      <td>NaN</td>\n",
              "      <td>NaN</td>\n",
              "      <td>NaN</td>\n",
              "    </tr>\n",
              "    <tr>\n",
              "      <th>4</th>\n",
              "      <td>0</td>\n",
              "      <td>59</td>\n",
              "      <td>2564</td>\n",
              "      <td>NaN</td>\n",
              "      <td>NaN</td>\n",
              "      <td>NaN</td>\n",
              "    </tr>\n",
              "  </tbody>\n",
              "</table>\n",
              "</div>\n",
              "      <button class=\"colab-df-convert\" onclick=\"convertToInteractive('df-d8fa0984-814c-4486-8512-bbd7ca0c1fc2')\"\n",
              "              title=\"Convert this dataframe to an interactive table.\"\n",
              "              style=\"display:none;\">\n",
              "        \n",
              "  <svg xmlns=\"http://www.w3.org/2000/svg\" height=\"24px\"viewBox=\"0 0 24 24\"\n",
              "       width=\"24px\">\n",
              "    <path d=\"M0 0h24v24H0V0z\" fill=\"none\"/>\n",
              "    <path d=\"M18.56 5.44l.94 2.06.94-2.06 2.06-.94-2.06-.94-.94-2.06-.94 2.06-2.06.94zm-11 1L8.5 8.5l.94-2.06 2.06-.94-2.06-.94L8.5 2.5l-.94 2.06-2.06.94zm10 10l.94 2.06.94-2.06 2.06-.94-2.06-.94-.94-2.06-.94 2.06-2.06.94z\"/><path d=\"M17.41 7.96l-1.37-1.37c-.4-.4-.92-.59-1.43-.59-.52 0-1.04.2-1.43.59L10.3 9.45l-7.72 7.72c-.78.78-.78 2.05 0 2.83L4 21.41c.39.39.9.59 1.41.59.51 0 1.02-.2 1.41-.59l7.78-7.78 2.81-2.81c.8-.78.8-2.07 0-2.86zM5.41 20L4 18.59l7.72-7.72 1.47 1.35L5.41 20z\"/>\n",
              "  </svg>\n",
              "      </button>\n",
              "      \n",
              "  <style>\n",
              "    .colab-df-container {\n",
              "      display:flex;\n",
              "      flex-wrap:wrap;\n",
              "      gap: 12px;\n",
              "    }\n",
              "\n",
              "    .colab-df-convert {\n",
              "      background-color: #E8F0FE;\n",
              "      border: none;\n",
              "      border-radius: 50%;\n",
              "      cursor: pointer;\n",
              "      display: none;\n",
              "      fill: #1967D2;\n",
              "      height: 32px;\n",
              "      padding: 0 0 0 0;\n",
              "      width: 32px;\n",
              "    }\n",
              "\n",
              "    .colab-df-convert:hover {\n",
              "      background-color: #E2EBFA;\n",
              "      box-shadow: 0px 1px 2px rgba(60, 64, 67, 0.3), 0px 1px 3px 1px rgba(60, 64, 67, 0.15);\n",
              "      fill: #174EA6;\n",
              "    }\n",
              "\n",
              "    [theme=dark] .colab-df-convert {\n",
              "      background-color: #3B4455;\n",
              "      fill: #D2E3FC;\n",
              "    }\n",
              "\n",
              "    [theme=dark] .colab-df-convert:hover {\n",
              "      background-color: #434B5C;\n",
              "      box-shadow: 0px 1px 3px 1px rgba(0, 0, 0, 0.15);\n",
              "      filter: drop-shadow(0px 1px 2px rgba(0, 0, 0, 0.3));\n",
              "      fill: #FFFFFF;\n",
              "    }\n",
              "  </style>\n",
              "\n",
              "      <script>\n",
              "        const buttonEl =\n",
              "          document.querySelector('#df-d8fa0984-814c-4486-8512-bbd7ca0c1fc2 button.colab-df-convert');\n",
              "        buttonEl.style.display =\n",
              "          google.colab.kernel.accessAllowed ? 'block' : 'none';\n",
              "\n",
              "        async function convertToInteractive(key) {\n",
              "          const element = document.querySelector('#df-d8fa0984-814c-4486-8512-bbd7ca0c1fc2');\n",
              "          const dataTable =\n",
              "            await google.colab.kernel.invokeFunction('convertToInteractive',\n",
              "                                                     [key], {});\n",
              "          if (!dataTable) return;\n",
              "\n",
              "          const docLinkHtml = 'Like what you see? Visit the ' +\n",
              "            '<a target=\"_blank\" href=https://colab.research.google.com/notebooks/data_table.ipynb>data table notebook</a>'\n",
              "            + ' to learn more about interactive tables.';\n",
              "          element.innerHTML = '';\n",
              "          dataTable['output_type'] = 'display_data';\n",
              "          await google.colab.output.renderOutput(dataTable, element);\n",
              "          const docLink = document.createElement('div');\n",
              "          docLink.innerHTML = docLinkHtml;\n",
              "          element.appendChild(docLink);\n",
              "        }\n",
              "      </script>\n",
              "    </div>\n",
              "  </div>\n",
              "  "
            ]
          },
          "metadata": {},
          "execution_count": 30
        }
      ]
    },
    {
      "cell_type": "code",
      "source": [
        "test['월ID'] = 34\n",
        "\n",
        "# train과 test 이어붙이기\n",
        "all_data = pd.concat([train, test.drop('ID', axis=1)],\n",
        "                     ignore_index=True,\n",
        "                     keys=idx_features)\n",
        "# 결측값을 0으로 대체\n",
        "all_data = all_data.fillna(0)\n",
        "\n",
        "all_data.head()"
      ],
      "metadata": {
        "colab": {
          "base_uri": "https://localhost:8080/",
          "height": 206
        },
        "id": "wvN_30YKTb8u",
        "outputId": "035dfaa8-11f3-46cf-eb5c-962cc19d1425"
      },
      "execution_count": 31,
      "outputs": [
        {
          "output_type": "execute_result",
          "data": {
            "text/plain": [
              "   월ID  상점ID   상품ID  월간 판매량  평균 판매가  판매건수\n",
              "0    0    59  22154     1.0   999.0   1.0\n",
              "1    0    59   2552     0.0     0.0   0.0\n",
              "2    0    59   2554     0.0     0.0   0.0\n",
              "3    0    59   2555     0.0     0.0   0.0\n",
              "4    0    59   2564     0.0     0.0   0.0"
            ],
            "text/html": [
              "\n",
              "  <div id=\"df-4f12c7f4-19f7-40e5-8b60-7a05fe6a57f6\">\n",
              "    <div class=\"colab-df-container\">\n",
              "      <div>\n",
              "<style scoped>\n",
              "    .dataframe tbody tr th:only-of-type {\n",
              "        vertical-align: middle;\n",
              "    }\n",
              "\n",
              "    .dataframe tbody tr th {\n",
              "        vertical-align: top;\n",
              "    }\n",
              "\n",
              "    .dataframe thead th {\n",
              "        text-align: right;\n",
              "    }\n",
              "</style>\n",
              "<table border=\"1\" class=\"dataframe\">\n",
              "  <thead>\n",
              "    <tr style=\"text-align: right;\">\n",
              "      <th></th>\n",
              "      <th>월ID</th>\n",
              "      <th>상점ID</th>\n",
              "      <th>상품ID</th>\n",
              "      <th>월간 판매량</th>\n",
              "      <th>평균 판매가</th>\n",
              "      <th>판매건수</th>\n",
              "    </tr>\n",
              "  </thead>\n",
              "  <tbody>\n",
              "    <tr>\n",
              "      <th>0</th>\n",
              "      <td>0</td>\n",
              "      <td>59</td>\n",
              "      <td>22154</td>\n",
              "      <td>1.0</td>\n",
              "      <td>999.0</td>\n",
              "      <td>1.0</td>\n",
              "    </tr>\n",
              "    <tr>\n",
              "      <th>1</th>\n",
              "      <td>0</td>\n",
              "      <td>59</td>\n",
              "      <td>2552</td>\n",
              "      <td>0.0</td>\n",
              "      <td>0.0</td>\n",
              "      <td>0.0</td>\n",
              "    </tr>\n",
              "    <tr>\n",
              "      <th>2</th>\n",
              "      <td>0</td>\n",
              "      <td>59</td>\n",
              "      <td>2554</td>\n",
              "      <td>0.0</td>\n",
              "      <td>0.0</td>\n",
              "      <td>0.0</td>\n",
              "    </tr>\n",
              "    <tr>\n",
              "      <th>3</th>\n",
              "      <td>0</td>\n",
              "      <td>59</td>\n",
              "      <td>2555</td>\n",
              "      <td>0.0</td>\n",
              "      <td>0.0</td>\n",
              "      <td>0.0</td>\n",
              "    </tr>\n",
              "    <tr>\n",
              "      <th>4</th>\n",
              "      <td>0</td>\n",
              "      <td>59</td>\n",
              "      <td>2564</td>\n",
              "      <td>0.0</td>\n",
              "      <td>0.0</td>\n",
              "      <td>0.0</td>\n",
              "    </tr>\n",
              "  </tbody>\n",
              "</table>\n",
              "</div>\n",
              "      <button class=\"colab-df-convert\" onclick=\"convertToInteractive('df-4f12c7f4-19f7-40e5-8b60-7a05fe6a57f6')\"\n",
              "              title=\"Convert this dataframe to an interactive table.\"\n",
              "              style=\"display:none;\">\n",
              "        \n",
              "  <svg xmlns=\"http://www.w3.org/2000/svg\" height=\"24px\"viewBox=\"0 0 24 24\"\n",
              "       width=\"24px\">\n",
              "    <path d=\"M0 0h24v24H0V0z\" fill=\"none\"/>\n",
              "    <path d=\"M18.56 5.44l.94 2.06.94-2.06 2.06-.94-2.06-.94-.94-2.06-.94 2.06-2.06.94zm-11 1L8.5 8.5l.94-2.06 2.06-.94-2.06-.94L8.5 2.5l-.94 2.06-2.06.94zm10 10l.94 2.06.94-2.06 2.06-.94-2.06-.94-.94-2.06-.94 2.06-2.06.94z\"/><path d=\"M17.41 7.96l-1.37-1.37c-.4-.4-.92-.59-1.43-.59-.52 0-1.04.2-1.43.59L10.3 9.45l-7.72 7.72c-.78.78-.78 2.05 0 2.83L4 21.41c.39.39.9.59 1.41.59.51 0 1.02-.2 1.41-.59l7.78-7.78 2.81-2.81c.8-.78.8-2.07 0-2.86zM5.41 20L4 18.59l7.72-7.72 1.47 1.35L5.41 20z\"/>\n",
              "  </svg>\n",
              "      </button>\n",
              "      \n",
              "  <style>\n",
              "    .colab-df-container {\n",
              "      display:flex;\n",
              "      flex-wrap:wrap;\n",
              "      gap: 12px;\n",
              "    }\n",
              "\n",
              "    .colab-df-convert {\n",
              "      background-color: #E8F0FE;\n",
              "      border: none;\n",
              "      border-radius: 50%;\n",
              "      cursor: pointer;\n",
              "      display: none;\n",
              "      fill: #1967D2;\n",
              "      height: 32px;\n",
              "      padding: 0 0 0 0;\n",
              "      width: 32px;\n",
              "    }\n",
              "\n",
              "    .colab-df-convert:hover {\n",
              "      background-color: #E2EBFA;\n",
              "      box-shadow: 0px 1px 2px rgba(60, 64, 67, 0.3), 0px 1px 3px 1px rgba(60, 64, 67, 0.15);\n",
              "      fill: #174EA6;\n",
              "    }\n",
              "\n",
              "    [theme=dark] .colab-df-convert {\n",
              "      background-color: #3B4455;\n",
              "      fill: #D2E3FC;\n",
              "    }\n",
              "\n",
              "    [theme=dark] .colab-df-convert:hover {\n",
              "      background-color: #434B5C;\n",
              "      box-shadow: 0px 1px 3px 1px rgba(0, 0, 0, 0.15);\n",
              "      filter: drop-shadow(0px 1px 2px rgba(0, 0, 0, 0.3));\n",
              "      fill: #FFFFFF;\n",
              "    }\n",
              "  </style>\n",
              "\n",
              "      <script>\n",
              "        const buttonEl =\n",
              "          document.querySelector('#df-4f12c7f4-19f7-40e5-8b60-7a05fe6a57f6 button.colab-df-convert');\n",
              "        buttonEl.style.display =\n",
              "          google.colab.kernel.accessAllowed ? 'block' : 'none';\n",
              "\n",
              "        async function convertToInteractive(key) {\n",
              "          const element = document.querySelector('#df-4f12c7f4-19f7-40e5-8b60-7a05fe6a57f6');\n",
              "          const dataTable =\n",
              "            await google.colab.kernel.invokeFunction('convertToInteractive',\n",
              "                                                     [key], {});\n",
              "          if (!dataTable) return;\n",
              "\n",
              "          const docLinkHtml = 'Like what you see? Visit the ' +\n",
              "            '<a target=\"_blank\" href=https://colab.research.google.com/notebooks/data_table.ipynb>data table notebook</a>'\n",
              "            + ' to learn more about interactive tables.';\n",
              "          element.innerHTML = '';\n",
              "          dataTable['output_type'] = 'display_data';\n",
              "          await google.colab.output.renderOutput(dataTable, element);\n",
              "          const docLink = document.createElement('div');\n",
              "          docLink.innerHTML = docLinkHtml;\n",
              "          element.appendChild(docLink);\n",
              "        }\n",
              "      </script>\n",
              "    </div>\n",
              "  </div>\n",
              "  "
            ]
          },
          "metadata": {},
          "execution_count": 31
        }
      ]
    },
    {
      "cell_type": "code",
      "source": [
        "# 나머지 데이터 병합\n",
        "all_data = all_data.merge(shops, on='상점ID', how='left')\n",
        "all_data = all_data.merge(items, on='상품ID', how='left')\n",
        "all_data = all_data.merge(item_categories, on='상품분류ID', how='left')\n",
        "\n",
        "# 데이터 다운캐스팅\n",
        "all_data = downcast(all_data)"
      ],
      "metadata": {
        "colab": {
          "base_uri": "https://localhost:8080/"
        },
        "id": "9xEA0--dXtfA",
        "outputId": "18e5be6d-7fc2-43cc-dad9-833737532f73"
      },
      "execution_count": 32,
      "outputs": [
        {
          "output_type": "stream",
          "name": "stdout",
          "text": [
            "64.6% 압축됨\n"
          ]
        }
      ]
    },
    {
      "cell_type": "markdown",
      "source": [
        "기준 피처별 월간 평균 판매량 파생 피처 생성"
      ],
      "metadata": {
        "id": "MHqqbVQsU5w0"
      }
    },
    {
      "cell_type": "code",
      "source": [
        "def add_mean_features(df, mean_features, idx_features):\n",
        "    # 기준 피처 확인 \n",
        "    assert (idx_features[0] == '월ID') and \\\n",
        "           len(idx_features) in [2, 3]\n",
        "    \n",
        "    # 파생 피처명 설정 \n",
        "    if len(idx_features) == 2:\n",
        "        feature_name = idx_features[1] + '별 평균 판매량'\n",
        "    else:\n",
        "        feature_name = idx_features[1] + ' ' + idx_features[2] + '별 평균 판매량'\n",
        "    \n",
        "    # 기준 피처를 토대로 그룹화해 월간 평균 판매량 구하기 \n",
        "    group = df.groupby(idx_features).agg({'월간 판매량': 'mean'})\n",
        "    group = group.reset_index()\n",
        "    group = group.rename(columns={'월간 판매량': feature_name})\n",
        "    \n",
        "    # df와 group 병합 \n",
        "    df = df.merge(group, on=idx_features, how='left')\n",
        "    # 데이터 다운캐스팅 \n",
        "    df = downcast(df, verbose=False)\n",
        "    # 새로 만든 feature_name 피처명을 mean_features 리스트에 추가 \n",
        "    mean_features.append(feature_name)\n",
        "    \n",
        "    # 가비지 컬렉션\n",
        "    del group\n",
        "    gc.collect()\n",
        "    \n",
        "    return df, mean_features\n",
        "\n",
        "# 그룹화 기준 피처 중 '상품ID'가 포함된 파생 피처명을 담을 리스트\n",
        "item_mean_features = []\n",
        "\n",
        "# ['월ID', '상품ID']로 그룹화한 월간 평균 판매량 파생 피처 생성\n",
        "all_data, item_mean_features = add_mean_features(df=all_data,\n",
        "                                                 mean_features=item_mean_features,\n",
        "                                                 idx_features=['월ID', '상품ID'])\n",
        "#print(all_data.head())\n",
        "# ['월ID', '상품ID', '도시']로 그룹화한 월간 평균 판매량 파생 피처 생성\n",
        "all_data, item_mean_features = add_mean_features(df=all_data,\n",
        "                                                 mean_features=item_mean_features,\n",
        "                                                 idx_features=['월ID', '상품ID', '도시'])\n",
        "#print(all_data.head())"
      ],
      "metadata": {
        "id": "N1MD0oLhUO1g"
      },
      "execution_count": 33,
      "outputs": []
    },
    {
      "cell_type": "code",
      "source": [
        "item_mean_features"
      ],
      "metadata": {
        "colab": {
          "base_uri": "https://localhost:8080/"
        },
        "id": "XTPyv2R6VVjb",
        "outputId": "95be56ce-e2b7-44b6-966d-be69b03459d1"
      },
      "execution_count": 34,
      "outputs": [
        {
          "output_type": "execute_result",
          "data": {
            "text/plain": [
              "['상품ID별 평균 판매량', '상품ID 도시별 평균 판매량']"
            ]
          },
          "metadata": {},
          "execution_count": 34
        }
      ]
    },
    {
      "cell_type": "code",
      "source": [
        "# 그룹화 기준 피처 중 '상점ID'가 포함된 파생 피처명을 담을 리스트\n",
        "shop_mean_features = []\n",
        "\n",
        "# ['월ID', '상점ID', '상품분류ID']로 그룹화한 월간 평균 판매량 파생 피처 생성\n",
        "all_data, shop_mean_features = add_mean_features(df=all_data, \n",
        "                                                 mean_features=shop_mean_features,\n",
        "                                                 idx_features=['월ID', '상점ID', '상품분류ID'])"
      ],
      "metadata": {
        "id": "jJ-iA9B8Xl8a"
      },
      "execution_count": 35,
      "outputs": []
    },
    {
      "cell_type": "code",
      "source": [
        "shop_mean_features"
      ],
      "metadata": {
        "colab": {
          "base_uri": "https://localhost:8080/"
        },
        "id": "WYlL28fkXwXE",
        "outputId": "f19a7da5-d27f-4662-dddc-6c227f65bbd1"
      },
      "execution_count": 36,
      "outputs": [
        {
          "output_type": "execute_result",
          "data": {
            "text/plain": [
              "['상점ID 상품분류ID별 평균 판매량']"
            ]
          },
          "metadata": {},
          "execution_count": 36
        }
      ]
    },
    {
      "cell_type": "code",
      "source": [
        "def add_lag_features(df, lag_features_to_clip, idx_features, \n",
        "                     lag_feature, nlags=3, clip=False):\n",
        "    # 시차 피처 생성에 필요한 DataFrame 부분만 복사 \n",
        "    df_temp = df[idx_features + [lag_feature]].copy() \n",
        "\n",
        "    # 시차 피처 생성 \n",
        "    for i in range(1, nlags+1):\n",
        "        # 시차 피처명 \n",
        "        lag_feature_name = lag_feature +'_시차' + str(i)\n",
        "        # df_temp 열 이름 설정 \n",
        "        df_temp.columns = idx_features + [lag_feature_name]\n",
        "        # df_temp의 date_block_num 피처에 i 더하기 \n",
        "        df_temp['월ID'] += i\n",
        "        # idx_feature를 기준으로 df와 df_temp 병합하기 \n",
        "        df = df.merge(df_temp.drop_duplicates(), \n",
        "                      on=idx_features, \n",
        "                      how='left')\n",
        "        # 결측값 0으로 대체 \n",
        "        df[lag_feature_name] = df[lag_feature_name].fillna(0)\n",
        "        # 0 ~ 20 사이로 제한할 시차 피처명을 lag_features_to_clip에 추가 \n",
        "        if clip: \n",
        "            lag_features_to_clip.append(lag_feature_name)\n",
        "    \n",
        "    # 데이터 다운캐스팅\n",
        "    df = downcast(df, False)\n",
        "    # 가비지 컬렉션\n",
        "    del df_temp\n",
        "    gc.collect()\n",
        "    \n",
        "    return df, lag_features_to_clip\n"
      ],
      "metadata": {
        "id": "v7PrA7VOX5Yf"
      },
      "execution_count": 37,
      "outputs": []
    },
    {
      "cell_type": "code",
      "source": [
        "lag_features_to_clip = [] # 0 ~ 20 사이로 제한할 시차 피처명을 담을 리스트\n",
        "idx_features = ['월ID', '상점ID', '상품ID'] # 기준 피처\n",
        "\n",
        "# idx_features를 기준으로 월간 판매량의 세 달치 시차 피처 생성\n",
        "all_data, lag_features_to_clip = add_lag_features(df=all_data, \n",
        "                                                  lag_features_to_clip=lag_features_to_clip,\n",
        "                                                  idx_features=idx_features,\n",
        "                                                  lag_feature='월간 판매량', \n",
        "                                                  nlags=3,\n",
        "                                                  clip=True) # 값을 0 ~ 20 사이로 제한"
      ],
      "metadata": {
        "id": "OHHc1CqrX64f"
      },
      "execution_count": 38,
      "outputs": []
    },
    {
      "cell_type": "code",
      "source": [
        "all_data.head().T"
      ],
      "metadata": {
        "colab": {
          "base_uri": "https://localhost:8080/",
          "height": 551
        },
        "id": "KwVuNUZXX8bt",
        "outputId": "0899ab78-0e76-4842-f962-5018f05dc37e"
      },
      "execution_count": 39,
      "outputs": [
        {
          "output_type": "execute_result",
          "data": {
            "text/plain": [
              "                                0       1            2            3  \\\n",
              "월ID                      0.000000     0.0     0.000000     0.000000   \n",
              "상점ID                    59.000000    59.0    59.000000    59.000000   \n",
              "상품ID                 22154.000000  2552.0  2554.000000  2555.000000   \n",
              "월간 판매량                   1.000000     0.0     0.000000     0.000000   \n",
              "평균 판매가                 999.000000     0.0     0.000000     0.000000   \n",
              "판매건수                     1.000000     0.0     0.000000     0.000000   \n",
              "도시                      30.000000    30.0    30.000000    30.000000   \n",
              "상품분류ID                  37.000000    58.0    58.000000    56.000000   \n",
              "첫 판매월                    0.000000     0.0     0.000000     0.000000   \n",
              "대분류                      5.000000     7.0     7.000000     7.000000   \n",
              "상품ID별 평균 판매량             0.400000     0.0     0.022222     0.044444   \n",
              "상품ID 도시별 평균 판매량          1.000000     0.0     0.000000     0.000000   \n",
              "상점ID 상품분류ID별 평균 판매량      0.088496     0.0     0.000000     0.008333   \n",
              "월간 판매량_시차1               0.000000     0.0     0.000000     0.000000   \n",
              "월간 판매량_시차2               0.000000     0.0     0.000000     0.000000   \n",
              "월간 판매량_시차3               0.000000     0.0     0.000000     0.000000   \n",
              "\n",
              "                               4  \n",
              "월ID                     0.000000  \n",
              "상점ID                   59.000000  \n",
              "상품ID                 2564.000000  \n",
              "월간 판매량                  0.000000  \n",
              "평균 판매가                  0.000000  \n",
              "판매건수                    0.000000  \n",
              "도시                     30.000000  \n",
              "상품분류ID                 59.000000  \n",
              "첫 판매월                   0.000000  \n",
              "대분류                     7.000000  \n",
              "상품ID별 평균 판매량            0.111111  \n",
              "상품ID 도시별 평균 판매량         0.000000  \n",
              "상점ID 상품분류ID별 평균 판매량     0.011976  \n",
              "월간 판매량_시차1              0.000000  \n",
              "월간 판매량_시차2              0.000000  \n",
              "월간 판매량_시차3              0.000000  "
            ],
            "text/html": [
              "\n",
              "  <div id=\"df-78f7fadb-ff76-4ccc-ae4a-af694984a8d0\">\n",
              "    <div class=\"colab-df-container\">\n",
              "      <div>\n",
              "<style scoped>\n",
              "    .dataframe tbody tr th:only-of-type {\n",
              "        vertical-align: middle;\n",
              "    }\n",
              "\n",
              "    .dataframe tbody tr th {\n",
              "        vertical-align: top;\n",
              "    }\n",
              "\n",
              "    .dataframe thead th {\n",
              "        text-align: right;\n",
              "    }\n",
              "</style>\n",
              "<table border=\"1\" class=\"dataframe\">\n",
              "  <thead>\n",
              "    <tr style=\"text-align: right;\">\n",
              "      <th></th>\n",
              "      <th>0</th>\n",
              "      <th>1</th>\n",
              "      <th>2</th>\n",
              "      <th>3</th>\n",
              "      <th>4</th>\n",
              "    </tr>\n",
              "  </thead>\n",
              "  <tbody>\n",
              "    <tr>\n",
              "      <th>월ID</th>\n",
              "      <td>0.000000</td>\n",
              "      <td>0.0</td>\n",
              "      <td>0.000000</td>\n",
              "      <td>0.000000</td>\n",
              "      <td>0.000000</td>\n",
              "    </tr>\n",
              "    <tr>\n",
              "      <th>상점ID</th>\n",
              "      <td>59.000000</td>\n",
              "      <td>59.0</td>\n",
              "      <td>59.000000</td>\n",
              "      <td>59.000000</td>\n",
              "      <td>59.000000</td>\n",
              "    </tr>\n",
              "    <tr>\n",
              "      <th>상품ID</th>\n",
              "      <td>22154.000000</td>\n",
              "      <td>2552.0</td>\n",
              "      <td>2554.000000</td>\n",
              "      <td>2555.000000</td>\n",
              "      <td>2564.000000</td>\n",
              "    </tr>\n",
              "    <tr>\n",
              "      <th>월간 판매량</th>\n",
              "      <td>1.000000</td>\n",
              "      <td>0.0</td>\n",
              "      <td>0.000000</td>\n",
              "      <td>0.000000</td>\n",
              "      <td>0.000000</td>\n",
              "    </tr>\n",
              "    <tr>\n",
              "      <th>평균 판매가</th>\n",
              "      <td>999.000000</td>\n",
              "      <td>0.0</td>\n",
              "      <td>0.000000</td>\n",
              "      <td>0.000000</td>\n",
              "      <td>0.000000</td>\n",
              "    </tr>\n",
              "    <tr>\n",
              "      <th>판매건수</th>\n",
              "      <td>1.000000</td>\n",
              "      <td>0.0</td>\n",
              "      <td>0.000000</td>\n",
              "      <td>0.000000</td>\n",
              "      <td>0.000000</td>\n",
              "    </tr>\n",
              "    <tr>\n",
              "      <th>도시</th>\n",
              "      <td>30.000000</td>\n",
              "      <td>30.0</td>\n",
              "      <td>30.000000</td>\n",
              "      <td>30.000000</td>\n",
              "      <td>30.000000</td>\n",
              "    </tr>\n",
              "    <tr>\n",
              "      <th>상품분류ID</th>\n",
              "      <td>37.000000</td>\n",
              "      <td>58.0</td>\n",
              "      <td>58.000000</td>\n",
              "      <td>56.000000</td>\n",
              "      <td>59.000000</td>\n",
              "    </tr>\n",
              "    <tr>\n",
              "      <th>첫 판매월</th>\n",
              "      <td>0.000000</td>\n",
              "      <td>0.0</td>\n",
              "      <td>0.000000</td>\n",
              "      <td>0.000000</td>\n",
              "      <td>0.000000</td>\n",
              "    </tr>\n",
              "    <tr>\n",
              "      <th>대분류</th>\n",
              "      <td>5.000000</td>\n",
              "      <td>7.0</td>\n",
              "      <td>7.000000</td>\n",
              "      <td>7.000000</td>\n",
              "      <td>7.000000</td>\n",
              "    </tr>\n",
              "    <tr>\n",
              "      <th>상품ID별 평균 판매량</th>\n",
              "      <td>0.400000</td>\n",
              "      <td>0.0</td>\n",
              "      <td>0.022222</td>\n",
              "      <td>0.044444</td>\n",
              "      <td>0.111111</td>\n",
              "    </tr>\n",
              "    <tr>\n",
              "      <th>상품ID 도시별 평균 판매량</th>\n",
              "      <td>1.000000</td>\n",
              "      <td>0.0</td>\n",
              "      <td>0.000000</td>\n",
              "      <td>0.000000</td>\n",
              "      <td>0.000000</td>\n",
              "    </tr>\n",
              "    <tr>\n",
              "      <th>상점ID 상품분류ID별 평균 판매량</th>\n",
              "      <td>0.088496</td>\n",
              "      <td>0.0</td>\n",
              "      <td>0.000000</td>\n",
              "      <td>0.008333</td>\n",
              "      <td>0.011976</td>\n",
              "    </tr>\n",
              "    <tr>\n",
              "      <th>월간 판매량_시차1</th>\n",
              "      <td>0.000000</td>\n",
              "      <td>0.0</td>\n",
              "      <td>0.000000</td>\n",
              "      <td>0.000000</td>\n",
              "      <td>0.000000</td>\n",
              "    </tr>\n",
              "    <tr>\n",
              "      <th>월간 판매량_시차2</th>\n",
              "      <td>0.000000</td>\n",
              "      <td>0.0</td>\n",
              "      <td>0.000000</td>\n",
              "      <td>0.000000</td>\n",
              "      <td>0.000000</td>\n",
              "    </tr>\n",
              "    <tr>\n",
              "      <th>월간 판매량_시차3</th>\n",
              "      <td>0.000000</td>\n",
              "      <td>0.0</td>\n",
              "      <td>0.000000</td>\n",
              "      <td>0.000000</td>\n",
              "      <td>0.000000</td>\n",
              "    </tr>\n",
              "  </tbody>\n",
              "</table>\n",
              "</div>\n",
              "      <button class=\"colab-df-convert\" onclick=\"convertToInteractive('df-78f7fadb-ff76-4ccc-ae4a-af694984a8d0')\"\n",
              "              title=\"Convert this dataframe to an interactive table.\"\n",
              "              style=\"display:none;\">\n",
              "        \n",
              "  <svg xmlns=\"http://www.w3.org/2000/svg\" height=\"24px\"viewBox=\"0 0 24 24\"\n",
              "       width=\"24px\">\n",
              "    <path d=\"M0 0h24v24H0V0z\" fill=\"none\"/>\n",
              "    <path d=\"M18.56 5.44l.94 2.06.94-2.06 2.06-.94-2.06-.94-.94-2.06-.94 2.06-2.06.94zm-11 1L8.5 8.5l.94-2.06 2.06-.94-2.06-.94L8.5 2.5l-.94 2.06-2.06.94zm10 10l.94 2.06.94-2.06 2.06-.94-2.06-.94-.94-2.06-.94 2.06-2.06.94z\"/><path d=\"M17.41 7.96l-1.37-1.37c-.4-.4-.92-.59-1.43-.59-.52 0-1.04.2-1.43.59L10.3 9.45l-7.72 7.72c-.78.78-.78 2.05 0 2.83L4 21.41c.39.39.9.59 1.41.59.51 0 1.02-.2 1.41-.59l7.78-7.78 2.81-2.81c.8-.78.8-2.07 0-2.86zM5.41 20L4 18.59l7.72-7.72 1.47 1.35L5.41 20z\"/>\n",
              "  </svg>\n",
              "      </button>\n",
              "      \n",
              "  <style>\n",
              "    .colab-df-container {\n",
              "      display:flex;\n",
              "      flex-wrap:wrap;\n",
              "      gap: 12px;\n",
              "    }\n",
              "\n",
              "    .colab-df-convert {\n",
              "      background-color: #E8F0FE;\n",
              "      border: none;\n",
              "      border-radius: 50%;\n",
              "      cursor: pointer;\n",
              "      display: none;\n",
              "      fill: #1967D2;\n",
              "      height: 32px;\n",
              "      padding: 0 0 0 0;\n",
              "      width: 32px;\n",
              "    }\n",
              "\n",
              "    .colab-df-convert:hover {\n",
              "      background-color: #E2EBFA;\n",
              "      box-shadow: 0px 1px 2px rgba(60, 64, 67, 0.3), 0px 1px 3px 1px rgba(60, 64, 67, 0.15);\n",
              "      fill: #174EA6;\n",
              "    }\n",
              "\n",
              "    [theme=dark] .colab-df-convert {\n",
              "      background-color: #3B4455;\n",
              "      fill: #D2E3FC;\n",
              "    }\n",
              "\n",
              "    [theme=dark] .colab-df-convert:hover {\n",
              "      background-color: #434B5C;\n",
              "      box-shadow: 0px 1px 3px 1px rgba(0, 0, 0, 0.15);\n",
              "      filter: drop-shadow(0px 1px 2px rgba(0, 0, 0, 0.3));\n",
              "      fill: #FFFFFF;\n",
              "    }\n",
              "  </style>\n",
              "\n",
              "      <script>\n",
              "        const buttonEl =\n",
              "          document.querySelector('#df-78f7fadb-ff76-4ccc-ae4a-af694984a8d0 button.colab-df-convert');\n",
              "        buttonEl.style.display =\n",
              "          google.colab.kernel.accessAllowed ? 'block' : 'none';\n",
              "\n",
              "        async function convertToInteractive(key) {\n",
              "          const element = document.querySelector('#df-78f7fadb-ff76-4ccc-ae4a-af694984a8d0');\n",
              "          const dataTable =\n",
              "            await google.colab.kernel.invokeFunction('convertToInteractive',\n",
              "                                                     [key], {});\n",
              "          if (!dataTable) return;\n",
              "\n",
              "          const docLinkHtml = 'Like what you see? Visit the ' +\n",
              "            '<a target=\"_blank\" href=https://colab.research.google.com/notebooks/data_table.ipynb>data table notebook</a>'\n",
              "            + ' to learn more about interactive tables.';\n",
              "          element.innerHTML = '';\n",
              "          dataTable['output_type'] = 'display_data';\n",
              "          await google.colab.output.renderOutput(dataTable, element);\n",
              "          const docLink = document.createElement('div');\n",
              "          docLink.innerHTML = docLinkHtml;\n",
              "          element.appendChild(docLink);\n",
              "        }\n",
              "      </script>\n",
              "    </div>\n",
              "  </div>\n",
              "  "
            ]
          },
          "metadata": {},
          "execution_count": 39
        }
      ]
    },
    {
      "cell_type": "code",
      "source": [
        "lag_features_to_clip"
      ],
      "metadata": {
        "colab": {
          "base_uri": "https://localhost:8080/"
        },
        "id": "73kM8dn2X-CT",
        "outputId": "d6ada418-37e6-42a0-a017-8f2d4c6429dd"
      },
      "execution_count": 40,
      "outputs": [
        {
          "output_type": "execute_result",
          "data": {
            "text/plain": [
              "['월간 판매량_시차1', '월간 판매량_시차2', '월간 판매량_시차3']"
            ]
          },
          "metadata": {},
          "execution_count": 40
        }
      ]
    },
    {
      "cell_type": "code",
      "source": [
        "# idx_features를 기준으로 판매건수 피처의 세 달치 시차 피처 생성\n",
        "all_data, lag_features_to_clip = add_lag_features(df=all_data, \n",
        "                                                  lag_features_to_clip=lag_features_to_clip,\n",
        "                                                  idx_features=idx_features,\n",
        "                                                  lag_feature='판매건수', \n",
        "                                                  nlags=3)\n",
        "\n",
        "# idx_features를 기준으로 평균 판매가 피처의 세 달치 시차 피처 생성\n",
        "all_data, lag_features_to_clip = add_lag_features(df=all_data, \n",
        "                                                  lag_features_to_clip=lag_features_to_clip,\n",
        "                                                  idx_features=idx_features,\n",
        "                                                  lag_feature='평균 판매가', \n",
        "                                                  nlags=3)"
      ],
      "metadata": {
        "id": "08rUoulUX-eP"
      },
      "execution_count": 41,
      "outputs": []
    },
    {
      "cell_type": "code",
      "source": [
        "item_mean_features"
      ],
      "metadata": {
        "colab": {
          "base_uri": "https://localhost:8080/"
        },
        "id": "FCYwvWq7eU5i",
        "outputId": "0fb2f207-cbfc-4791-930e-e02f624924a6"
      },
      "execution_count": 44,
      "outputs": [
        {
          "output_type": "execute_result",
          "data": {
            "text/plain": [
              "['상품ID별 평균 판매량', '상품ID 도시별 평균 판매량']"
            ]
          },
          "metadata": {},
          "execution_count": 44
        }
      ]
    },
    {
      "cell_type": "code",
      "source": [
        "# idx_features를 기준으로 item_mean_features 요소별 시차 피처 생성\n",
        "for item_mean_feature in item_mean_features:\n",
        "    all_data, lag_features_to_clip = add_lag_features(df=all_data, \n",
        "                                                      lag_features_to_clip=lag_features_to_clip, \n",
        "                                                      idx_features=idx_features, \n",
        "                                                      lag_feature=item_mean_feature, \n",
        "                                                      nlags=3,\n",
        "                                                      clip=True)\n",
        "# item_mean_features 피처 제거\n",
        "all_data = all_data.drop(item_mean_features, axis=1)"
      ],
      "metadata": {
        "id": "V7GDZhE4YBQn"
      },
      "execution_count": 43,
      "outputs": []
    },
    {
      "cell_type": "code",
      "source": [
        "shop_mean_features"
      ],
      "metadata": {
        "colab": {
          "base_uri": "https://localhost:8080/"
        },
        "id": "at7K2isvepYX",
        "outputId": "5cb1ebf6-3498-4a39-c9c0-ed3cf4bf6445"
      },
      "execution_count": 45,
      "outputs": [
        {
          "output_type": "execute_result",
          "data": {
            "text/plain": [
              "['상점ID 상품분류ID별 평균 판매량']"
            ]
          },
          "metadata": {},
          "execution_count": 45
        }
      ]
    },
    {
      "cell_type": "code",
      "source": [
        "# ['월ID', '상점ID', '상품분류ID']를 기준으로 shop_mean_features 요소별 시차 피처 생성\n",
        "for shop_mean_feature in shop_mean_features:\n",
        "    all_data, lag_features_to_clip = add_lag_features(df=all_data,\n",
        "                                                      lag_features_to_clip=lag_features_to_clip, \n",
        "                                                      idx_features=['월ID', '상점ID', '상품분류ID'], \n",
        "                                                      lag_feature=shop_mean_feature, \n",
        "                                                      nlags=3,\n",
        "                                                      clip=True)\n",
        "# shop_mean_features 피처 제거\n",
        "all_data = all_data.drop(shop_mean_features, axis=1)"
      ],
      "metadata": {
        "id": "Q4Enh5WDYDuL"
      },
      "execution_count": 46,
      "outputs": []
    },
    {
      "cell_type": "code",
      "source": [
        "# 월ID 3미만인 데이터 제거\n",
        "all_data = all_data.drop(all_data[all_data['월ID'] < 3].index)"
      ],
      "metadata": {
        "id": "VR6lFuHSYFex"
      },
      "execution_count": 47,
      "outputs": []
    },
    {
      "cell_type": "code",
      "source": [
        "all_data['월간 판매량 시차평균'] = all_data[['월간 판매량_시차1',\n",
        "                                          '월간 판매량_시차2', \n",
        "                                          '월간 판매량_시차3']].mean(axis=1)\n",
        "# 0 ~ 20 사이로 값 제한\n",
        "all_data[lag_features_to_clip + ['월간 판매량', '월간 판매량 시차평균']] = all_data[lag_features_to_clip + ['월간 판매량', '월간 판매량 시차평균']].clip(0, 20)\n",
        "#시차 변화량\n",
        "all_data['시차변화량1'] = all_data['월간 판매량_시차1']/all_data['월간 판매량_시차2']\n",
        "all_data['시차변화량1'] = all_data['시차변화량1'].replace([np.inf, -np.inf], \n",
        "                                                        np.nan).fillna(0)\n",
        "\n",
        "all_data['시차변화량2'] = all_data['월간 판매량_시차2']/all_data['월간 판매량_시차3']\n",
        "all_data['시차변화량2'] = all_data['시차변화량2'].replace([np.inf, -np.inf], \n",
        "                                                        np.nan).fillna(0)\n",
        "#신상 여부\n",
        "all_data['신상여부'] = all_data['첫 판매월'] == all_data['월ID']"
      ],
      "metadata": {
        "id": "AzgQ6oR4YHE0"
      },
      "execution_count": 49,
      "outputs": []
    },
    {
      "cell_type": "code",
      "source": [
        "#첫 판매 후 경과 기간\n",
        "all_data['첫 판매 후 기간'] = all_data['월ID'] - all_data['첫 판매월']\n",
        "#월(month)\n",
        "all_data['월'] = all_data['월ID'] % 12\n",
        "#필요 없는 피처 제거\n",
        "# 첫 판매월, 평균 판매가, 판매건수 피처 제거\n",
        "all_data = all_data.drop(['첫 판매월', '평균 판매가', '판매건수'], axis=1)\n",
        "all_data = downcast(all_data, False) # 데이터 다운캐스팅"
      ],
      "metadata": {
        "id": "UYrr2xmUYO7K"
      },
      "execution_count": 50,
      "outputs": []
    },
    {
      "cell_type": "code",
      "source": [
        "all_data.info()"
      ],
      "metadata": {
        "colab": {
          "base_uri": "https://localhost:8080/"
        },
        "id": "iEi220TsYQ7G",
        "outputId": "f41a51fc-f3f1-47cd-dd02-b0a0a1ffc09d"
      },
      "execution_count": 51,
      "outputs": [
        {
          "output_type": "stream",
          "name": "stdout",
          "text": [
            "<class 'pandas.core.frame.DataFrame'>\n",
            "Int64Index: 9933528 entries, 1122795 to 11056322\n",
            "Data columns (total 31 columns):\n",
            " #   Column                   Dtype  \n",
            "---  ------                   -----  \n",
            " 0   월ID                      int8   \n",
            " 1   상점ID                     int8   \n",
            " 2   상품ID                     int16  \n",
            " 3   월간 판매량                   int8   \n",
            " 4   도시                       int8   \n",
            " 5   상품분류ID                   int8   \n",
            " 6   대분류                      int8   \n",
            " 7   월간 판매량_시차1               int8   \n",
            " 8   월간 판매량_시차2               int8   \n",
            " 9   월간 판매량_시차3               int8   \n",
            " 10  판매건수_시차1                 int8   \n",
            " 11  판매건수_시차2                 int8   \n",
            " 12  판매건수_시차3                 int8   \n",
            " 13  평균 판매가_시차1               float32\n",
            " 14  평균 판매가_시차2               float32\n",
            " 15  평균 판매가_시차3               float32\n",
            " 16  상품ID별 평균 판매량_시차1         float32\n",
            " 17  상품ID별 평균 판매량_시차2         float32\n",
            " 18  상품ID별 평균 판매량_시차3         float32\n",
            " 19  상품ID 도시별 평균 판매량_시차1      float32\n",
            " 20  상품ID 도시별 평균 판매량_시차2      float32\n",
            " 21  상품ID 도시별 평균 판매량_시차3      float32\n",
            " 22  상점ID 상품분류ID별 평균 판매량_시차1  float32\n",
            " 23  상점ID 상품분류ID별 평균 판매량_시차2  float32\n",
            " 24  상점ID 상품분류ID별 평균 판매량_시차3  float32\n",
            " 25  월간 판매량 시차평균              float32\n",
            " 26  시차변화량1                   float32\n",
            " 27  시차변화량2                   float32\n",
            " 28  신상여부                     int8   \n",
            " 29  첫 판매 후 기간                int8   \n",
            " 30  월                        int8   \n",
            "dtypes: float32(15), int16(1), int8(15)\n",
            "memory usage: 805.2 MB\n"
          ]
        }
      ]
    },
    {
      "cell_type": "markdown",
      "source": [
        "#훈련 데이터 생성"
      ],
      "metadata": {
        "id": "tEj_Lwxpf24E"
      }
    },
    {
      "cell_type": "code",
      "source": [
        "# 훈련 데이터 (피처)\n",
        "X_train = all_data[all_data['월ID'] < 33]\n",
        "X_train = X_train.drop(['월간 판매량'], axis=1)\n",
        "# 검증 데이터 (피처)\n",
        "X_valid = all_data[all_data['월ID'] == 33]\n",
        "X_valid = X_valid.drop(['월간 판매량'], axis=1)\n",
        "# 테스트 데이터 (피처)\n",
        "X_test = all_data[all_data['월ID'] == 34]\n",
        "X_test = X_test.drop(['월간 판매량'], axis=1)\n",
        "\n",
        "# 훈련 데이터 (타깃값)\n",
        "y_train = all_data[all_data['월ID'] < 33]['월간 판매량']\n",
        "# 검증 데이터 (타깃값)\n",
        "y_valid = all_data[all_data['월ID'] == 33]['월간 판매량']\n",
        "\n",
        "# 가비지 컬렉션\n",
        "del all_data\n",
        "gc.collect();"
      ],
      "metadata": {
        "id": "TazxH0Esfmv9"
      },
      "execution_count": 52,
      "outputs": []
    },
    {
      "cell_type": "markdown",
      "source": [
        "#모델 훈련 및 성능 검증¶"
      ],
      "metadata": {
        "id": "GOcvsoiVf4XQ"
      }
    },
    {
      "cell_type": "code",
      "source": [
        "import lightgbm as lgb\n",
        "\n",
        "# LightGBM 하이퍼파라미터\n",
        "params = {'metric': 'rmse', \n",
        "          'num_leaves': 255,\n",
        "          'learning_rate': 0.005,\n",
        "          'feature_fraction': 0.75,\n",
        "          'bagging_fraction': 0.75,\n",
        "          'bagging_freq': 5,\n",
        "          'force_col_wise': True,\n",
        "          'random_state': 10}\n",
        "\n",
        "cat_features = ['상점ID', '도시', '상품분류ID', '대분류', '월']\n",
        "\n",
        "# LightGBM 훈련 및 검증 데이터셋\n",
        "dtrain = lgb.Dataset(X_train, y_train)\n",
        "dvalid = lgb.Dataset(X_valid, y_valid)\n",
        " \n",
        "# LightGBM 모델 훈련\n",
        "lgb_model = lgb.train(params=params,\n",
        "                      train_set=dtrain,\n",
        "                      num_boost_round=1500,\n",
        "                      valid_sets=(dtrain, dvalid),\n",
        "                      early_stopping_rounds=150,\n",
        "                      categorical_feature=cat_features,\n",
        "                      verbose_eval=100)      "
      ],
      "metadata": {
        "colab": {
          "base_uri": "https://localhost:8080/"
        },
        "id": "TQW4tXyWf_ht",
        "outputId": "99503689-4301-4f10-f63c-23fedaf029a4"
      },
      "execution_count": 53,
      "outputs": [
        {
          "output_type": "stream",
          "name": "stderr",
          "text": [
            "/usr/local/lib/python3.7/dist-packages/lightgbm/basic.py:1209: UserWarning: categorical_feature in Dataset is overridden.\n",
            "New categorical_feature is ['대분류', '도시', '상점ID', '상품분류ID', '월']\n",
            "  'New categorical_feature is {}'.format(sorted(list(categorical_feature))))\n",
            "/usr/local/lib/python3.7/dist-packages/lightgbm/basic.py:762: UserWarning: categorical_feature in param dict is overridden.\n",
            "  warnings.warn('categorical_feature in param dict is overridden.')\n"
          ]
        },
        {
          "output_type": "stream",
          "name": "stdout",
          "text": [
            "Training until validation scores don't improve for 150 rounds.\n",
            "[100]\ttraining's rmse: 1.01036\tvalid_1's rmse: 0.986667\n",
            "[200]\ttraining's rmse: 0.909855\tvalid_1's rmse: 0.924058\n",
            "[300]\ttraining's rmse: 0.85919\tvalid_1's rmse: 0.897753\n",
            "[400]\ttraining's rmse: 0.831132\tvalid_1's rmse: 0.886714\n",
            "[500]\ttraining's rmse: 0.812438\tvalid_1's rmse: 0.883359\n",
            "[600]\ttraining's rmse: 0.79912\tvalid_1's rmse: 0.881688\n",
            "[700]\ttraining's rmse: 0.789277\tvalid_1's rmse: 0.880666\n",
            "[800]\ttraining's rmse: 0.780876\tvalid_1's rmse: 0.880649\n",
            "[900]\ttraining's rmse: 0.774199\tvalid_1's rmse: 0.880738\n",
            "Early stopping, best iteration is:\n",
            "[826]\ttraining's rmse: 0.779199\tvalid_1's rmse: 0.88054\n"
          ]
        }
      ]
    },
    {
      "cell_type": "code",
      "source": [
        "# 예측\n",
        "preds = lgb_model.predict(X_test).clip(0, 20)\n",
        "\n",
        "# 제출 파일 생성\n",
        "submission['item_cnt_month'] = preds\n",
        "submission.to_csv('submission.csv', index=False)"
      ],
      "metadata": {
        "id": "_vcYd6nzgCI5"
      },
      "execution_count": 54,
      "outputs": []
    },
    {
      "cell_type": "code",
      "source": [
        "from lightgbm import plot_importance\n",
        "plot_importance(lgb_model)"
      ],
      "metadata": {
        "colab": {
          "base_uri": "https://localhost:8080/",
          "height": 331
        },
        "id": "bwRKMvCPm0_c",
        "outputId": "4af39a31-6860-4a26-fcd2-40302f4a306a"
      },
      "execution_count": 58,
      "outputs": [
        {
          "output_type": "execute_result",
          "data": {
            "text/plain": [
              "<matplotlib.axes._subplots.AxesSubplot at 0x7f830843cd10>"
            ]
          },
          "metadata": {},
          "execution_count": 58
        },
        {
          "output_type": "display_data",
          "data": {
            "text/plain": [
              "<Figure size 432x288 with 1 Axes>"
            ],
            "image/png": "[encoded data removed]"
          },
          "metadata": {
            "needs_background": "light"
          }
        }
      ]
    }
  ]
}